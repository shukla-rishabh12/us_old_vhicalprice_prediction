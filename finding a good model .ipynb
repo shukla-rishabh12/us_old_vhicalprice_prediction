{
  "cells": [
    {
      "cell_type": "code",
      "execution_count": 2,
      "id": "3a1dcccc",
      "metadata": {
        "id": "3a1dcccc"
      },
      "outputs": [],
      "source": [
        "from sklearn.preprocessing import PowerTransformer\n",
        "from sklearn.metrics import mean_squared_error, mean_absolute_error, r2_score\n",
        "from sklearn.model_selection import train_test_split, cross_val_score, cross_val_predict\n",
        "from sklearn.preprocessing import OneHotEncoder, StandardScaler\n",
        "from sklearn.compose import ColumnTransformer\n",
        "\n",
        "from sklearn.pipeline import Pipeline\n",
        "\n",
        "from xgboost import XGBRegressor\n",
        "from sklearn.linear_model import LinearRegression\n",
        "import pandas as pd\n",
        "import numpy as np\n",
        "import matplotlib.pyplot as plt\n",
        "import seaborn as sns\n",
        "df = pd.read_csv('C:/Users/dell/Downloads/vehicle price prediction/final step data.csv')\n",
        "df=df.drop(columns=['mmr','seller'])\n",
        "\n",
        "m_df=df"
      ]
    },
    {
      "cell_type": "code",
      "execution_count": 3,
      "id": "lw8a8n9WLoQN",
      "metadata": {
        "colab": {
          "base_uri": "https://localhost:8080/",
          "height": 389
        },
        "id": "lw8a8n9WLoQN",
        "outputId": "a525d26f-da79-4788-f3bd-6329c4b99c2c"
      },
      "outputs": [
        {
          "name": "stdout",
          "output_type": "stream",
          "text": [
            "(548535, 7)\n",
            "<class 'pandas.core.frame.DataFrame'>\n",
            "RangeIndex: 548535 entries, 0 to 548534\n",
            "Data columns (total 7 columns):\n",
            " #   Column        Non-Null Count   Dtype  \n",
            "---  ------        --------------   -----  \n",
            " 0   year          548535 non-null  int64  \n",
            " 1   make          548535 non-null  object \n",
            " 2   model         548535 non-null  object \n",
            " 3   body          548535 non-null  object \n",
            " 4   condition     548535 non-null  float64\n",
            " 5   odometer      548535 non-null  float64\n",
            " 6   sellingprice  548535 non-null  float64\n",
            "dtypes: float64(3), int64(1), object(3)\n",
            "memory usage: 29.3+ MB\n",
            "None\n"
          ]
        },
        {
          "data": {
            "text/html": [
              "<div>\n",
              "<style scoped>\n",
              "    .dataframe tbody tr th:only-of-type {\n",
              "        vertical-align: middle;\n",
              "    }\n",
              "\n",
              "    .dataframe tbody tr th {\n",
              "        vertical-align: top;\n",
              "    }\n",
              "\n",
              "    .dataframe thead th {\n",
              "        text-align: right;\n",
              "    }\n",
              "</style>\n",
              "<table border=\"1\" class=\"dataframe\">\n",
              "  <thead>\n",
              "    <tr style=\"text-align: right;\">\n",
              "      <th></th>\n",
              "      <th>year</th>\n",
              "      <th>make</th>\n",
              "      <th>model</th>\n",
              "      <th>body</th>\n",
              "      <th>condition</th>\n",
              "      <th>odometer</th>\n",
              "      <th>sellingprice</th>\n",
              "    </tr>\n",
              "  </thead>\n",
              "  <tbody>\n",
              "    <tr>\n",
              "      <th>89505</th>\n",
              "      <td>2011</td>\n",
              "      <td>toyota</td>\n",
              "      <td>camry</td>\n",
              "      <td>sedan</td>\n",
              "      <td>49.0</td>\n",
              "      <td>16992.0</td>\n",
              "      <td>12300.0</td>\n",
              "    </tr>\n",
              "    <tr>\n",
              "      <th>57044</th>\n",
              "      <td>2008</td>\n",
              "      <td>dodge</td>\n",
              "      <td>charger</td>\n",
              "      <td>sedan</td>\n",
              "      <td>23.0</td>\n",
              "      <td>141004.0</td>\n",
              "      <td>4500.0</td>\n",
              "    </tr>\n",
              "  </tbody>\n",
              "</table>\n",
              "</div>"
            ],
            "text/plain": [
              "       year    make    model   body  condition  odometer  sellingprice\n",
              "89505  2011  toyota    camry  sedan       49.0   16992.0       12300.0\n",
              "57044  2008   dodge  charger  sedan       23.0  141004.0        4500.0"
            ]
          },
          "execution_count": 3,
          "metadata": {},
          "output_type": "execute_result"
        }
      ],
      "source": [
        "#df['condition']=df['condition']/10\n",
        "print(df.shape)\n",
        "\n",
        "print(df.info())\n",
        "df.sample(2)"
      ]
    },
    {
      "cell_type": "code",
      "execution_count": 4,
      "id": "pFWJdEzcLoQR",
      "metadata": {
        "id": "pFWJdEzcLoQR"
      },
      "outputs": [],
      "source": [
        "df.describe()\n",
        "df=df.dropna()"
      ]
    },
    {
      "cell_type": "code",
      "execution_count": 5,
      "id": "4a227c5c",
      "metadata": {
        "id": "4a227c5c"
      },
      "outputs": [],
      "source": [
        "target_transformer = PowerTransformer(method='yeo-johnson')\n",
        "from sklearn.preprocessing import FunctionTransformer\n",
        "from sklearn.svm import SVR\n",
        "\n",
        "\n",
        "X = df.drop('sellingprice', axis=1)\n",
        "y = df['sellingprice']\n",
        "y_transformed =FunctionTransformer(np.log1p).fit_transform(y) #target_transformer.fit_transform(y.values.reshape(-1, 1)).ravel()  # flatten\n",
        "\n",
        "numerical_features = ['condition', 'odometer']     # Numerical columns\n",
        "categorical_features = ['make', 'model', 'body']  # Categorical columns\n",
        "year_col = ['year']  # Year is numerical but treated separately\n",
        "\n",
        "\n",
        "#inp_trns=PowerTransformer(method='yeo-johnson')"
      ]
    },
    {
      "cell_type": "code",
      "execution_count": 6,
      "id": "da56c11d",
      "metadata": {
        "id": "da56c11d"
      },
      "outputs": [],
      "source": [
        "\n",
        "# Step 4: Define Preprocessor\n",
        "categorical_transformer = OneHotEncoder(handle_unknown='ignore')\n",
        "numerical_transformer = Pipeline(steps=[\n",
        "\n",
        "    ('log1p', FunctionTransformer(np.log1p)),\n",
        "\n",
        "   # ('power',PowerTransformer(method='yeo-johnson')) ,\n",
        "    ('scaler', StandardScaler())\n",
        "])\n",
        "\n",
        "\n",
        "year_transformer = Pipeline(steps=[\n",
        "    ('log1p', FunctionTransformer(np.log1p)),\n",
        "    #('power', PowerTransformer(method='yeo-johnson')),\n",
        "    ('scaler', StandardScaler())\n",
        "])\n",
        "\n",
        "\n",
        "preprocessor = ColumnTransformer(transformers=[\n",
        "    ('num', numerical_transformer, numerical_features),\n",
        "    ('cat', categorical_transformer, categorical_features),\n",
        "    ('year', year_transformer, year_col)\n",
        "])\n",
        "\n",
        "\n",
        "\n"
      ]
    },
    {
      "cell_type": "code",
      "execution_count": 7,
      "id": "T0PVTCr9WEFo",
      "metadata": {
        "id": "T0PVTCr9WEFo"
      },
      "outputs": [],
      "source": [
        "from sklearn.decomposition import PCA\n",
        "\n",
        "# Step 5: Define Pipeline\n",
        "pipeline = Pipeline(steps=[\n",
        "    ('preprocessing', preprocessor),\n",
        "    ('pca',PCA(n_components=70) ),\n",
        "\n",
        "    ('regressor',XGBRegressor())\n",
        "])"
      ]
    },
    {
      "cell_type": "code",
      "execution_count": 8,
      "id": "1nqH9meALoQV",
      "metadata": {
        "id": "1nqH9meALoQV"
      },
      "outputs": [
        {
          "name": "stdout",
          "output_type": "stream",
          "text": [
            "Cross-Validated RMSE: [0.30273901 0.24010318 0.23670183 0.24468589 0.24281527]\n",
            "Average RMSE: 0.25340903411964383\n"
          ]
        }
      ],
      "source": [
        "scores = cross_val_score(pipeline, X, y_transformed, cv=5, scoring='neg_mean_squared_error')\n",
        "rmse_scores = np.sqrt(-scores)\n",
        "print(\"Cross-Validated RMSE:\", rmse_scores)\n",
        "print(\"Average RMSE:\", np.mean(rmse_scores))\n"
      ]
    },
    {
      "cell_type": "code",
      "execution_count": null,
      "id": "21b69aca",
      "metadata": {
        "id": "21b69aca"
      },
      "outputs": [
        {
          "name": "stdout",
          "output_type": "stream",
          "text": [
            "Fitting 5 folds for each of 128 candidates, totalling 640 fits\n"
          ]
        }
      ],
      "source": [
        "from sklearn.model_selection import GridSearchCV\n",
        "# Step 9: Fit full pipeline\n",
        "pipeline.fit(X, y_transformed)\n",
        "param_grid = {\n",
        "    'regressor__n_estimators': [200, 300],        # कितने trees (ज्यादा value = बेहतर learning but slow)\n",
        "    'regressor__max_depth': [ 5, 7],                 # हर tree की गहराई (deep = ज्यादा complex)\n",
        "    'regressor__learning_rate': [ 0.05, 0.1],     # छोटा learning rate → stable but slow learning\n",
        "    'regressor__subsample': [0.8, 1.0],                # हर tree के लिए कितने data points use हों\n",
        "    'regressor__colsample_bytree': [0.7, 1.0],         # हर tree के लिए कितने features use हों\n",
        "    'regressor__gamma': [0, 1],                        # Regularization (0 = कोई रोक नहीं)\n",
        "    'regressor__reg_lambda': [0, 1],                   # L2 regularization\n",
        "}\n",
        "grid = GridSearchCV(pipeline, param_grid, cv=5, scoring='r2', n_jobs=-1, verbose=2)\n",
        "grid.fit(X, y_transformed)\n",
        "\n",
        "print(\"Best R²:\", grid.best_score_)\n",
        "print(\"Best Parameters:\", grid.best_params_)\n",
        "# Optional: Evaluate\n",
        "y_pred = cross_val_predict(pipeline, X, y_transformed, cv=5)\n",
        "print(\"\\nEvaluation Metrics:\")\n",
        "print(\"RMSE:\", np.sqrt(mean_squared_error(y_transformed, y_pred)))\n",
        "print(\"MAE:\", mean_absolute_error(y_transformed, y_pred))\n",
        "print(\"R2 Score:\", r2_score(y_transformed, y_pred))"
      ]
    },
    {
      "cell_type": "code",
      "execution_count": null,
      "id": "WJsn5rWYLoQZ",
      "metadata": {
        "id": "WJsn5rWYLoQZ"
      },
      "outputs": [],
      "source": [
        "# # Step 10: Save pipeline & target transformer\n",
        "# import pickle\n",
        "# with open(\"xgboost3_model_pipeline.pkl\", \"wb\") as file:\n",
        "#     pickle.dump(pipeline, file)\n",
        "# with open(\"inp_transformer.pkl\", \"wb\") as f:\n",
        "#     pickle.dump(inp_trns, f)\n",
        "\n",
        "# with open(\"target_transformer.pkl\", \"wb\") as f:\n",
        "#     pickle.dump(target_transformer, f)\n",
        "\n",
        "# Optional: Evaluate"
      ]
    },
    {
      "cell_type": "code",
      "execution_count": null,
      "id": "oyNt-2EVLoQa",
      "metadata": {
        "id": "oyNt-2EVLoQa"
      },
      "outputs": [],
      "source": []
    }
  ],
  "metadata": {
    "accelerator": "GPU",
    "colab": {
      "gpuType": "T4",
      "provenance": []
    },
    "kernelspec": {
      "display_name": ".conda",
      "language": "python",
      "name": "python3"
    },
    "language_info": {
      "codemirror_mode": {
        "name": "ipython",
        "version": 3
      },
      "file_extension": ".py",
      "mimetype": "text/x-python",
      "name": "python",
      "nbconvert_exporter": "python",
      "pygments_lexer": "ipython3",
      "version": "3.11.11"
    }
  },
  "nbformat": 4,
  "nbformat_minor": 5
}
