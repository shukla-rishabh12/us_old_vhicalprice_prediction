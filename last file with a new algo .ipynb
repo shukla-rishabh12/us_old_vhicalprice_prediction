{
  "cells": [
    {
      "cell_type": "code",
      "execution_count": 1,
      "id": "3a1dcccc",
      "metadata": {
        "colab": {
          "base_uri": "https://localhost:8080/"
        },
        "id": "3a1dcccc",
        "outputId": "62f9bfff-1e93-458d-9984-017a92171dd9"
      },
      "outputs": [
        {
          "output_type": "stream",
          "name": "stdout",
          "text": [
            "(548535, 7)\n"
          ]
        }
      ],
      "source": [
        "from sklearn.preprocessing import PowerTransformer\n",
        "from sklearn.metrics import mean_squared_error, mean_absolute_error, r2_score\n",
        "from sklearn.model_selection import train_test_split, cross_val_score, cross_val_predict\n",
        "from sklearn.preprocessing import OneHotEncoder, StandardScaler\n",
        "from sklearn.compose import ColumnTransformer\n",
        "\n",
        "from sklearn.pipeline import Pipeline\n",
        "\n",
        "from xgboost import XGBRegressor\n",
        "from sklearn.linear_model import LinearRegression\n",
        "import pandas as pd\n",
        "import numpy as np\n",
        "import matplotlib.pyplot as plt\n",
        "import seaborn as sns\n",
        "df = pd.read_csv('/content/final step data.csv')\n",
        "df=df.drop(columns=['mmr','seller'])\n",
        "print(df.shape)\n",
        "m_df=df"
      ]
    },
    {
      "cell_type": "code",
      "execution_count": 2,
      "id": "lw8a8n9WLoQN",
      "metadata": {
        "colab": {
          "base_uri": "https://localhost:8080/",
          "height": 389
        },
        "id": "lw8a8n9WLoQN",
        "outputId": "a5dc7402-c418-4dff-bf8b-3aa839072e33"
      },
      "outputs": [
        {
          "output_type": "stream",
          "name": "stdout",
          "text": [
            "(548535, 7)\n",
            "<class 'pandas.core.frame.DataFrame'>\n",
            "RangeIndex: 548535 entries, 0 to 548534\n",
            "Data columns (total 7 columns):\n",
            " #   Column        Non-Null Count   Dtype  \n",
            "---  ------        --------------   -----  \n",
            " 0   year          548535 non-null  int64  \n",
            " 1   make          548535 non-null  object \n",
            " 2   model         548535 non-null  object \n",
            " 3   body          548535 non-null  object \n",
            " 4   condition     548535 non-null  float64\n",
            " 5   odometer      548535 non-null  float64\n",
            " 6   sellingprice  548535 non-null  float64\n",
            "dtypes: float64(3), int64(1), object(3)\n",
            "memory usage: 29.3+ MB\n",
            "None\n"
          ]
        },
        {
          "output_type": "execute_result",
          "data": {
            "text/plain": [
              "        year       make           model      body  condition  odometer  \\\n",
              "388414  2012     nissan          altima     sedan       36.0   40215.0   \n",
              "139637  2013  chevrolet  silverado 1500  crew cab       45.0   38455.0   \n",
              "\n",
              "        sellingprice  \n",
              "388414       14900.0  \n",
              "139637       31600.0  "
            ],
            "text/html": [
              "\n",
              "  <div id=\"df-2dbdce29-c20e-4e22-9f1a-4bc30c4b33d3\" class=\"colab-df-container\">\n",
              "    <div>\n",
              "<style scoped>\n",
              "    .dataframe tbody tr th:only-of-type {\n",
              "        vertical-align: middle;\n",
              "    }\n",
              "\n",
              "    .dataframe tbody tr th {\n",
              "        vertical-align: top;\n",
              "    }\n",
              "\n",
              "    .dataframe thead th {\n",
              "        text-align: right;\n",
              "    }\n",
              "</style>\n",
              "<table border=\"1\" class=\"dataframe\">\n",
              "  <thead>\n",
              "    <tr style=\"text-align: right;\">\n",
              "      <th></th>\n",
              "      <th>year</th>\n",
              "      <th>make</th>\n",
              "      <th>model</th>\n",
              "      <th>body</th>\n",
              "      <th>condition</th>\n",
              "      <th>odometer</th>\n",
              "      <th>sellingprice</th>\n",
              "    </tr>\n",
              "  </thead>\n",
              "  <tbody>\n",
              "    <tr>\n",
              "      <th>388414</th>\n",
              "      <td>2012</td>\n",
              "      <td>nissan</td>\n",
              "      <td>altima</td>\n",
              "      <td>sedan</td>\n",
              "      <td>36.0</td>\n",
              "      <td>40215.0</td>\n",
              "      <td>14900.0</td>\n",
              "    </tr>\n",
              "    <tr>\n",
              "      <th>139637</th>\n",
              "      <td>2013</td>\n",
              "      <td>chevrolet</td>\n",
              "      <td>silverado 1500</td>\n",
              "      <td>crew cab</td>\n",
              "      <td>45.0</td>\n",
              "      <td>38455.0</td>\n",
              "      <td>31600.0</td>\n",
              "    </tr>\n",
              "  </tbody>\n",
              "</table>\n",
              "</div>\n",
              "    <div class=\"colab-df-buttons\">\n",
              "\n",
              "  <div class=\"colab-df-container\">\n",
              "    <button class=\"colab-df-convert\" onclick=\"convertToInteractive('df-2dbdce29-c20e-4e22-9f1a-4bc30c4b33d3')\"\n",
              "            title=\"Convert this dataframe to an interactive table.\"\n",
              "            style=\"display:none;\">\n",
              "\n",
              "  <svg xmlns=\"http://www.w3.org/2000/svg\" height=\"24px\" viewBox=\"0 -960 960 960\">\n",
              "    <path d=\"M120-120v-720h720v720H120Zm60-500h600v-160H180v160Zm220 220h160v-160H400v160Zm0 220h160v-160H400v160ZM180-400h160v-160H180v160Zm440 0h160v-160H620v160ZM180-180h160v-160H180v160Zm440 0h160v-160H620v160Z\"/>\n",
              "  </svg>\n",
              "    </button>\n",
              "\n",
              "  <style>\n",
              "    .colab-df-container {\n",
              "      display:flex;\n",
              "      gap: 12px;\n",
              "    }\n",
              "\n",
              "    .colab-df-convert {\n",
              "      background-color: #E8F0FE;\n",
              "      border: none;\n",
              "      border-radius: 50%;\n",
              "      cursor: pointer;\n",
              "      display: none;\n",
              "      fill: #1967D2;\n",
              "      height: 32px;\n",
              "      padding: 0 0 0 0;\n",
              "      width: 32px;\n",
              "    }\n",
              "\n",
              "    .colab-df-convert:hover {\n",
              "      background-color: #E2EBFA;\n",
              "      box-shadow: 0px 1px 2px rgba(60, 64, 67, 0.3), 0px 1px 3px 1px rgba(60, 64, 67, 0.15);\n",
              "      fill: #174EA6;\n",
              "    }\n",
              "\n",
              "    .colab-df-buttons div {\n",
              "      margin-bottom: 4px;\n",
              "    }\n",
              "\n",
              "    [theme=dark] .colab-df-convert {\n",
              "      background-color: #3B4455;\n",
              "      fill: #D2E3FC;\n",
              "    }\n",
              "\n",
              "    [theme=dark] .colab-df-convert:hover {\n",
              "      background-color: #434B5C;\n",
              "      box-shadow: 0px 1px 3px 1px rgba(0, 0, 0, 0.15);\n",
              "      filter: drop-shadow(0px 1px 2px rgba(0, 0, 0, 0.3));\n",
              "      fill: #FFFFFF;\n",
              "    }\n",
              "  </style>\n",
              "\n",
              "    <script>\n",
              "      const buttonEl =\n",
              "        document.querySelector('#df-2dbdce29-c20e-4e22-9f1a-4bc30c4b33d3 button.colab-df-convert');\n",
              "      buttonEl.style.display =\n",
              "        google.colab.kernel.accessAllowed ? 'block' : 'none';\n",
              "\n",
              "      async function convertToInteractive(key) {\n",
              "        const element = document.querySelector('#df-2dbdce29-c20e-4e22-9f1a-4bc30c4b33d3');\n",
              "        const dataTable =\n",
              "          await google.colab.kernel.invokeFunction('convertToInteractive',\n",
              "                                                    [key], {});\n",
              "        if (!dataTable) return;\n",
              "\n",
              "        const docLinkHtml = 'Like what you see? Visit the ' +\n",
              "          '<a target=\"_blank\" href=https://colab.research.google.com/notebooks/data_table.ipynb>data table notebook</a>'\n",
              "          + ' to learn more about interactive tables.';\n",
              "        element.innerHTML = '';\n",
              "        dataTable['output_type'] = 'display_data';\n",
              "        await google.colab.output.renderOutput(dataTable, element);\n",
              "        const docLink = document.createElement('div');\n",
              "        docLink.innerHTML = docLinkHtml;\n",
              "        element.appendChild(docLink);\n",
              "      }\n",
              "    </script>\n",
              "  </div>\n",
              "\n",
              "\n",
              "    <div id=\"df-2702bf71-b516-4422-9c10-ac669f6aee17\">\n",
              "      <button class=\"colab-df-quickchart\" onclick=\"quickchart('df-2702bf71-b516-4422-9c10-ac669f6aee17')\"\n",
              "                title=\"Suggest charts\"\n",
              "                style=\"display:none;\">\n",
              "\n",
              "<svg xmlns=\"http://www.w3.org/2000/svg\" height=\"24px\"viewBox=\"0 0 24 24\"\n",
              "     width=\"24px\">\n",
              "    <g>\n",
              "        <path d=\"M19 3H5c-1.1 0-2 .9-2 2v14c0 1.1.9 2 2 2h14c1.1 0 2-.9 2-2V5c0-1.1-.9-2-2-2zM9 17H7v-7h2v7zm4 0h-2V7h2v10zm4 0h-2v-4h2v4z\"/>\n",
              "    </g>\n",
              "</svg>\n",
              "      </button>\n",
              "\n",
              "<style>\n",
              "  .colab-df-quickchart {\n",
              "      --bg-color: #E8F0FE;\n",
              "      --fill-color: #1967D2;\n",
              "      --hover-bg-color: #E2EBFA;\n",
              "      --hover-fill-color: #174EA6;\n",
              "      --disabled-fill-color: #AAA;\n",
              "      --disabled-bg-color: #DDD;\n",
              "  }\n",
              "\n",
              "  [theme=dark] .colab-df-quickchart {\n",
              "      --bg-color: #3B4455;\n",
              "      --fill-color: #D2E3FC;\n",
              "      --hover-bg-color: #434B5C;\n",
              "      --hover-fill-color: #FFFFFF;\n",
              "      --disabled-bg-color: #3B4455;\n",
              "      --disabled-fill-color: #666;\n",
              "  }\n",
              "\n",
              "  .colab-df-quickchart {\n",
              "    background-color: var(--bg-color);\n",
              "    border: none;\n",
              "    border-radius: 50%;\n",
              "    cursor: pointer;\n",
              "    display: none;\n",
              "    fill: var(--fill-color);\n",
              "    height: 32px;\n",
              "    padding: 0;\n",
              "    width: 32px;\n",
              "  }\n",
              "\n",
              "  .colab-df-quickchart:hover {\n",
              "    background-color: var(--hover-bg-color);\n",
              "    box-shadow: 0 1px 2px rgba(60, 64, 67, 0.3), 0 1px 3px 1px rgba(60, 64, 67, 0.15);\n",
              "    fill: var(--button-hover-fill-color);\n",
              "  }\n",
              "\n",
              "  .colab-df-quickchart-complete:disabled,\n",
              "  .colab-df-quickchart-complete:disabled:hover {\n",
              "    background-color: var(--disabled-bg-color);\n",
              "    fill: var(--disabled-fill-color);\n",
              "    box-shadow: none;\n",
              "  }\n",
              "\n",
              "  .colab-df-spinner {\n",
              "    border: 2px solid var(--fill-color);\n",
              "    border-color: transparent;\n",
              "    border-bottom-color: var(--fill-color);\n",
              "    animation:\n",
              "      spin 1s steps(1) infinite;\n",
              "  }\n",
              "\n",
              "  @keyframes spin {\n",
              "    0% {\n",
              "      border-color: transparent;\n",
              "      border-bottom-color: var(--fill-color);\n",
              "      border-left-color: var(--fill-color);\n",
              "    }\n",
              "    20% {\n",
              "      border-color: transparent;\n",
              "      border-left-color: var(--fill-color);\n",
              "      border-top-color: var(--fill-color);\n",
              "    }\n",
              "    30% {\n",
              "      border-color: transparent;\n",
              "      border-left-color: var(--fill-color);\n",
              "      border-top-color: var(--fill-color);\n",
              "      border-right-color: var(--fill-color);\n",
              "    }\n",
              "    40% {\n",
              "      border-color: transparent;\n",
              "      border-right-color: var(--fill-color);\n",
              "      border-top-color: var(--fill-color);\n",
              "    }\n",
              "    60% {\n",
              "      border-color: transparent;\n",
              "      border-right-color: var(--fill-color);\n",
              "    }\n",
              "    80% {\n",
              "      border-color: transparent;\n",
              "      border-right-color: var(--fill-color);\n",
              "      border-bottom-color: var(--fill-color);\n",
              "    }\n",
              "    90% {\n",
              "      border-color: transparent;\n",
              "      border-bottom-color: var(--fill-color);\n",
              "    }\n",
              "  }\n",
              "</style>\n",
              "\n",
              "      <script>\n",
              "        async function quickchart(key) {\n",
              "          const quickchartButtonEl =\n",
              "            document.querySelector('#' + key + ' button');\n",
              "          quickchartButtonEl.disabled = true;  // To prevent multiple clicks.\n",
              "          quickchartButtonEl.classList.add('colab-df-spinner');\n",
              "          try {\n",
              "            const charts = await google.colab.kernel.invokeFunction(\n",
              "                'suggestCharts', [key], {});\n",
              "          } catch (error) {\n",
              "            console.error('Error during call to suggestCharts:', error);\n",
              "          }\n",
              "          quickchartButtonEl.classList.remove('colab-df-spinner');\n",
              "          quickchartButtonEl.classList.add('colab-df-quickchart-complete');\n",
              "        }\n",
              "        (() => {\n",
              "          let quickchartButtonEl =\n",
              "            document.querySelector('#df-2702bf71-b516-4422-9c10-ac669f6aee17 button');\n",
              "          quickchartButtonEl.style.display =\n",
              "            google.colab.kernel.accessAllowed ? 'block' : 'none';\n",
              "        })();\n",
              "      </script>\n",
              "    </div>\n",
              "\n",
              "    </div>\n",
              "  </div>\n"
            ],
            "application/vnd.google.colaboratory.intrinsic+json": {
              "type": "dataframe",
              "summary": "{\n  \"name\": \"df\",\n  \"rows\": 2,\n  \"fields\": [\n    {\n      \"column\": \"year\",\n      \"properties\": {\n        \"dtype\": \"number\",\n        \"std\": 0,\n        \"min\": 2012,\n        \"max\": 2013,\n        \"num_unique_values\": 2,\n        \"samples\": [\n          2013,\n          2012\n        ],\n        \"semantic_type\": \"\",\n        \"description\": \"\"\n      }\n    },\n    {\n      \"column\": \"make\",\n      \"properties\": {\n        \"dtype\": \"string\",\n        \"num_unique_values\": 2,\n        \"samples\": [\n          \"chevrolet\",\n          \"nissan\"\n        ],\n        \"semantic_type\": \"\",\n        \"description\": \"\"\n      }\n    },\n    {\n      \"column\": \"model\",\n      \"properties\": {\n        \"dtype\": \"string\",\n        \"num_unique_values\": 2,\n        \"samples\": [\n          \"silverado 1500\",\n          \"altima\"\n        ],\n        \"semantic_type\": \"\",\n        \"description\": \"\"\n      }\n    },\n    {\n      \"column\": \"body\",\n      \"properties\": {\n        \"dtype\": \"string\",\n        \"num_unique_values\": 2,\n        \"samples\": [\n          \"crew cab\",\n          \"sedan\"\n        ],\n        \"semantic_type\": \"\",\n        \"description\": \"\"\n      }\n    },\n    {\n      \"column\": \"condition\",\n      \"properties\": {\n        \"dtype\": \"number\",\n        \"std\": 6.363961030678928,\n        \"min\": 36.0,\n        \"max\": 45.0,\n        \"num_unique_values\": 2,\n        \"samples\": [\n          45.0,\n          36.0\n        ],\n        \"semantic_type\": \"\",\n        \"description\": \"\"\n      }\n    },\n    {\n      \"column\": \"odometer\",\n      \"properties\": {\n        \"dtype\": \"number\",\n        \"std\": 1244.5079348883237,\n        \"min\": 38455.0,\n        \"max\": 40215.0,\n        \"num_unique_values\": 2,\n        \"samples\": [\n          38455.0,\n          40215.0\n        ],\n        \"semantic_type\": \"\",\n        \"description\": \"\"\n      }\n    },\n    {\n      \"column\": \"sellingprice\",\n      \"properties\": {\n        \"dtype\": \"number\",\n        \"std\": 11808.683245815344,\n        \"min\": 14900.0,\n        \"max\": 31600.0,\n        \"num_unique_values\": 2,\n        \"samples\": [\n          31600.0,\n          14900.0\n        ],\n        \"semantic_type\": \"\",\n        \"description\": \"\"\n      }\n    }\n  ]\n}"
            }
          },
          "metadata": {},
          "execution_count": 2
        }
      ],
      "source": [
        "#df['condition']=df['condition']/10\n",
        "print(df.shape)\n",
        "\n",
        "print(df.info())\n",
        "df.sample(2)"
      ]
    },
    {
      "cell_type": "code",
      "execution_count": 3,
      "id": "pFWJdEzcLoQR",
      "metadata": {
        "id": "pFWJdEzcLoQR"
      },
      "outputs": [],
      "source": [
        "df.describe()\n",
        "df=df.dropna()"
      ]
    },
    {
      "cell_type": "code",
      "execution_count": 4,
      "id": "4a227c5c",
      "metadata": {
        "id": "4a227c5c"
      },
      "outputs": [],
      "source": [
        "target_transformer = PowerTransformer(method='yeo-johnson')\n",
        "from sklearn.preprocessing import FunctionTransformer\n",
        "from sklearn.svm import SVR\n",
        "\n",
        "\n",
        "X = df.drop('sellingprice', axis=1)\n",
        "y = df['sellingprice']\n",
        "y_transformed =FunctionTransformer(np.log1p).fit_transform(y) #target_transformer.fit_transform(y.values.reshape(-1, 1)).ravel()  # flatten\n",
        "\n",
        "numerical_features = ['condition', 'odometer']     # Numerical columns\n",
        "categorical_features = ['make', 'model', 'body']  # Categorical columns\n",
        "year_col = ['year']  # Year is numerical but treated separately\n",
        "\n",
        "\n",
        "#inp_trns=PowerTransformer(method='yeo-johnson')"
      ]
    },
    {
      "cell_type": "code",
      "execution_count": 5,
      "id": "da56c11d",
      "metadata": {
        "id": "da56c11d"
      },
      "outputs": [],
      "source": [
        "\n",
        "# Step 4: Define Preprocessor\n",
        "categorical_transformer = OneHotEncoder(handle_unknown='ignore')\n",
        "numerical_transformer = Pipeline(steps=[\n",
        "\n",
        "    ('log1p', FunctionTransformer(np.log1p)),\n",
        "\n",
        "   # ('power',PowerTransformer(method='yeo-johnson')) ,\n",
        "    ('scaler', StandardScaler())\n",
        "])\n",
        "\n",
        "\n",
        "year_transformer = Pipeline(steps=[\n",
        "    ('log1p', FunctionTransformer(np.log1p)),\n",
        "    #('power', PowerTransformer(method='yeo-johnson')),\n",
        "    ('scaler', StandardScaler())\n",
        "])\n",
        "\n",
        "\n",
        "preprocessor = ColumnTransformer(transformers=[\n",
        "    ('num', numerical_transformer, numerical_features),\n",
        "    ('cat', categorical_transformer, categorical_features),\n",
        "    ('year', year_transformer, year_col)\n",
        "])\n",
        "\n",
        "\n",
        "\n"
      ]
    },
    {
      "cell_type": "code",
      "source": [
        "\n",
        "from sklearn.pipeline import Pipeline\n",
        "from lightgbm import LGBMRegressor\n"
      ],
      "metadata": {
        "id": "Nk8emOn17q_g"
      },
      "id": "Nk8emOn17q_g",
      "execution_count": 7,
      "outputs": []
    },
    {
      "cell_type": "code",
      "execution_count": 10,
      "id": "T0PVTCr9WEFo",
      "metadata": {
        "id": "T0PVTCr9WEFo"
      },
      "outputs": [],
      "source": [
        "from sklearn.decomposition import PCA\n",
        "from sklearn.neighbors import KNeighborsRegressor\n",
        "# Step 5: Define Pipeline\n",
        "pipeline = Pipeline(steps=[\n",
        "    ('preprocessing', preprocessor),\n",
        "    ('pca',PCA(n_components=70) ),\n",
        "('regressor', LGBMRegressor(n_estimators=200, learning_rate=0.05, max_depth=7))\n",
        "\n",
        "\n",
        "    # ('regressor',XGBRegressor(colsample_bytree=0.7272013899887455,\n",
        "    #     gamma=0.22010384905535352,\n",
        "    #     learning_rate=0.07838054876258249,\n",
        "    #     max_depth=8,\n",
        "    #     n_estimators=220,\n",
        "    #     reg_lambda=1.6360295318449862,\n",
        "    #     subsample=0.9582191749769029\n",
        "    #                           ))\n",
        "])"
      ]
    },
    {
      "cell_type": "code",
      "execution_count": null,
      "id": "1nqH9meALoQV",
      "metadata": {
        "id": "1nqH9meALoQV"
      },
      "outputs": [],
      "source": [
        "# scores = cross_val_score(pipeline, X, y_transformed, cv=5, scoring='neg_mean_squared_error')\n",
        "# rmse_scores = np.sqrt(-scores)\n",
        "# print(\"Cross-Validated RMSE:\", rmse_scores)\n",
        "# print(\"Average RMSE:\", np.mean(rmse_scores))\n"
      ]
    },
    {
      "cell_type": "code",
      "source": [],
      "metadata": {
        "id": "vFx25l78xIwT"
      },
      "id": "vFx25l78xIwT",
      "execution_count": null,
      "outputs": []
    },
    {
      "cell_type": "code",
      "execution_count": 9,
      "id": "21b69aca",
      "metadata": {
        "colab": {
          "base_uri": "https://localhost:8080/"
        },
        "id": "21b69aca",
        "outputId": "0ed707b3-5a4e-45cd-a1dc-0645243bb8d1"
      },
      "outputs": [
        {
          "output_type": "stream",
          "name": "stderr",
          "text": [
            "/usr/local/lib/python3.11/dist-packages/sklearn/utils/deprecation.py:151: FutureWarning: 'force_all_finite' was renamed to 'ensure_all_finite' in 1.6 and will be removed in 1.8.\n",
            "  warnings.warn(\n"
          ]
        },
        {
          "output_type": "stream",
          "name": "stdout",
          "text": [
            "[LightGBM] [Info] Auto-choosing col-wise multi-threading, the overhead of testing was 0.442304 seconds.\n",
            "You can set `force_col_wise=true` to remove the overhead.\n",
            "[LightGBM] [Info] Total Bins 17850\n",
            "[LightGBM] [Info] Number of data points in the train set: 548535, number of used features: 70\n",
            "[LightGBM] [Info] Start training from score 9.220056\n"
          ]
        },
        {
          "output_type": "stream",
          "name": "stderr",
          "text": [
            "/usr/local/lib/python3.11/dist-packages/sklearn/utils/deprecation.py:151: FutureWarning: 'force_all_finite' was renamed to 'ensure_all_finite' in 1.6 and will be removed in 1.8.\n",
            "  warnings.warn(\n"
          ]
        },
        {
          "output_type": "stream",
          "name": "stdout",
          "text": [
            "[LightGBM] [Info] Auto-choosing col-wise multi-threading, the overhead of testing was 0.351176 seconds.\n",
            "You can set `force_col_wise=true` to remove the overhead.\n",
            "[LightGBM] [Info] Total Bins 17850\n",
            "[LightGBM] [Info] Number of data points in the train set: 438828, number of used features: 70\n",
            "[LightGBM] [Info] Start training from score 9.260753\n"
          ]
        },
        {
          "output_type": "stream",
          "name": "stderr",
          "text": [
            "/usr/local/lib/python3.11/dist-packages/sklearn/utils/deprecation.py:151: FutureWarning: 'force_all_finite' was renamed to 'ensure_all_finite' in 1.6 and will be removed in 1.8.\n",
            "  warnings.warn(\n",
            "/usr/local/lib/python3.11/dist-packages/sklearn/utils/deprecation.py:151: FutureWarning: 'force_all_finite' was renamed to 'ensure_all_finite' in 1.6 and will be removed in 1.8.\n",
            "  warnings.warn(\n"
          ]
        },
        {
          "output_type": "stream",
          "name": "stdout",
          "text": [
            "[LightGBM] [Info] Auto-choosing col-wise multi-threading, the overhead of testing was 0.349940 seconds.\n",
            "You can set `force_col_wise=true` to remove the overhead.\n",
            "[LightGBM] [Info] Total Bins 17850\n",
            "[LightGBM] [Info] Number of data points in the train set: 438828, number of used features: 70\n",
            "[LightGBM] [Info] Start training from score 9.220116\n"
          ]
        },
        {
          "output_type": "stream",
          "name": "stderr",
          "text": [
            "/usr/local/lib/python3.11/dist-packages/sklearn/utils/deprecation.py:151: FutureWarning: 'force_all_finite' was renamed to 'ensure_all_finite' in 1.6 and will be removed in 1.8.\n",
            "  warnings.warn(\n",
            "/usr/local/lib/python3.11/dist-packages/sklearn/utils/deprecation.py:151: FutureWarning: 'force_all_finite' was renamed to 'ensure_all_finite' in 1.6 and will be removed in 1.8.\n",
            "  warnings.warn(\n"
          ]
        },
        {
          "output_type": "stream",
          "name": "stdout",
          "text": [
            "[LightGBM] [Info] Auto-choosing col-wise multi-threading, the overhead of testing was 0.370179 seconds.\n",
            "You can set `force_col_wise=true` to remove the overhead.\n",
            "[LightGBM] [Info] Total Bins 17850\n",
            "[LightGBM] [Info] Number of data points in the train set: 438828, number of used features: 70\n",
            "[LightGBM] [Info] Start training from score 9.215514\n"
          ]
        },
        {
          "output_type": "stream",
          "name": "stderr",
          "text": [
            "/usr/local/lib/python3.11/dist-packages/sklearn/utils/deprecation.py:151: FutureWarning: 'force_all_finite' was renamed to 'ensure_all_finite' in 1.6 and will be removed in 1.8.\n",
            "  warnings.warn(\n",
            "/usr/local/lib/python3.11/dist-packages/sklearn/utils/deprecation.py:151: FutureWarning: 'force_all_finite' was renamed to 'ensure_all_finite' in 1.6 and will be removed in 1.8.\n",
            "  warnings.warn(\n"
          ]
        },
        {
          "output_type": "stream",
          "name": "stdout",
          "text": [
            "[LightGBM] [Info] Auto-choosing col-wise multi-threading, the overhead of testing was 0.366509 seconds.\n",
            "You can set `force_col_wise=true` to remove the overhead.\n",
            "[LightGBM] [Info] Total Bins 17850\n",
            "[LightGBM] [Info] Number of data points in the train set: 438828, number of used features: 70\n",
            "[LightGBM] [Info] Start training from score 9.201986\n"
          ]
        },
        {
          "output_type": "stream",
          "name": "stderr",
          "text": [
            "/usr/local/lib/python3.11/dist-packages/sklearn/utils/deprecation.py:151: FutureWarning: 'force_all_finite' was renamed to 'ensure_all_finite' in 1.6 and will be removed in 1.8.\n",
            "  warnings.warn(\n",
            "/usr/local/lib/python3.11/dist-packages/sklearn/utils/deprecation.py:151: FutureWarning: 'force_all_finite' was renamed to 'ensure_all_finite' in 1.6 and will be removed in 1.8.\n",
            "  warnings.warn(\n"
          ]
        },
        {
          "output_type": "stream",
          "name": "stdout",
          "text": [
            "[LightGBM] [Info] Auto-choosing col-wise multi-threading, the overhead of testing was 0.582899 seconds.\n",
            "You can set `force_col_wise=true` to remove the overhead.\n",
            "[LightGBM] [Info] Total Bins 17850\n",
            "[LightGBM] [Info] Number of data points in the train set: 438828, number of used features: 70\n",
            "[LightGBM] [Info] Start training from score 9.201911\n"
          ]
        },
        {
          "output_type": "stream",
          "name": "stderr",
          "text": [
            "/usr/local/lib/python3.11/dist-packages/sklearn/utils/deprecation.py:151: FutureWarning: 'force_all_finite' was renamed to 'ensure_all_finite' in 1.6 and will be removed in 1.8.\n",
            "  warnings.warn(\n"
          ]
        },
        {
          "output_type": "stream",
          "name": "stdout",
          "text": [
            "\n",
            "Evaluation Metrics:\n",
            "RMSE: 0.2714247291632967\n",
            "MAE: 0.17687722874708373\n",
            "R2 Score: 0.9108740777057326\n"
          ]
        }
      ],
      "source": [
        "from sklearn.model_selection import RandomizedSearchCV\n",
        "import numpy as np\n",
        "from scipy.stats import randint, uniform\n",
        "# Step 9: Fit full pipeline\n",
        "pipeline.fit(X, y_transformed)\n",
        "# param_dist = {\n",
        "#     'regressor__n_estimators': randint(100, 400),\n",
        "#     'regressor__max_depth': randint(3, 10),\n",
        "#     'regressor__learning_rate': uniform(0.01, 0.3),\n",
        "#     'regressor__subsample': uniform(0.7, 0.3),\n",
        "#     'regressor__colsample_bytree': uniform(0.6, 0.4),\n",
        "#     'regressor__gamma': uniform(0, 2),\n",
        "#     'regressor__reg_lambda': uniform(0, 2)# L2 regularization\n",
        "# }\n",
        "# random_search = RandomizedSearchCV(\n",
        "#     pipeline,\n",
        "#     param_distributions=param_dist,\n",
        "#     n_iter=30,              # कितने combinations test करने हैं\n",
        "#     scoring='r2',\n",
        "#     cv=5,\n",
        "#     verbose=2,\n",
        "#     n_jobs=-1,\n",
        "#     random_state=42\n",
        "# )\n",
        "# random_search.fit(X, y_transformed)\n",
        "# #Step 6: Best results\n",
        "# print(\"Best R² Score:\", random_search.best_score_)\n",
        "# print(\"Best Parameters:\", random_search.best_params_)\n",
        "\n",
        "\n",
        "# Optional: Evaluate\n",
        "y_pred = cross_val_predict(pipeline, X, y_transformed, cv=5)\n",
        "print(\"\\nEvaluation Metrics:\")\n",
        "print(\"RMSE:\", np.sqrt(mean_squared_error(y_transformed, y_pred)))\n",
        "print(\"MAE:\", mean_absolute_error(y_transformed, y_pred))\n",
        "print(\"R2 Score:\", r2_score(y_transformed, y_pred))"
      ]
    },
    {
      "cell_type": "code",
      "execution_count": 11,
      "id": "WJsn5rWYLoQZ",
      "metadata": {
        "id": "WJsn5rWYLoQZ"
      },
      "outputs": [],
      "source": [
        "# Step 10: Save pipeline & target transformer\n",
        "# best_pipeline = random_search.best_estimator_\n",
        "import pickle\n",
        "with open(\"lgbmrt3hypara_model_pipeline.pkl\", \"wb\") as file:\n",
        "    pickle.dump(pipeline, file)\n",
        "# with open(\"inp_transformer.pkl\", \"wb\") as f:\n",
        "#     pickle.dump(inp_trns, f)\n",
        "\n",
        "with open(\"targe-parat_transformer.pkl\", \"wb\") as f:\n",
        "    pickle.dump(target_transformer, f)\n",
        "\n",
        "# Optional: Evaluate"
      ]
    },
    {
      "cell_type": "code",
      "execution_count": null,
      "id": "oyNt-2EVLoQa",
      "metadata": {
        "id": "oyNt-2EVLoQa"
      },
      "outputs": [],
      "source": []
    }
  ],
  "metadata": {
    "colab": {
      "provenance": []
    },
    "kernelspec": {
      "display_name": "Python 3",
      "name": "python3"
    },
    "language_info": {
      "codemirror_mode": {
        "name": "ipython",
        "version": 3
      },
      "file_extension": ".py",
      "mimetype": "text/x-python",
      "name": "python",
      "nbconvert_exporter": "python",
      "pygments_lexer": "ipython3",
      "version": "3.11.11"
    }
  },
  "nbformat": 4,
  "nbformat_minor": 5
}