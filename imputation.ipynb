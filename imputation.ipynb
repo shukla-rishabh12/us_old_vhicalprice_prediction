{
  "cells": [
    {
      "cell_type": "code",
      "execution_count": 1,
      "metadata": {
        "id": "QXY14Fc0BTNX"
      },
      "outputs": [],
      "source": [
        "import pandas as pd\n",
        "import numpy as np\n",
        "import matplotlib.pyplot as plt\n",
        "import seaborn as sns\n"
      ]
    },
    {
      "cell_type": "code",
      "execution_count": 3,
      "metadata": {
        "colab": {
          "base_uri": "https://localhost:8080/",
          "height": 522
        },
        "id": "u9YAUFnXCXXZ",
        "outputId": "d7dde6bf-13e2-4e7f-93c3-51664ec302b3"
      },
      "outputs": [
        {
          "data": {
            "text/plain": [
              "np.int64(2015)"
            ]
          },
          "execution_count": 3,
          "metadata": {},
          "output_type": "execute_result"
        }
      ],
      "source": [
        "df=pd.read_csv('C:/Users/dell/Downloads/vehicle price prediction/car_prices.csv')\n",
        "df['year'].max()"
      ]
    },
    {
      "cell_type": "code",
      "execution_count": 10,
      "metadata": {
        "colab": {
          "base_uri": "https://localhost:8080/"
        },
        "id": "5ZO7w8EOCs5F",
        "outputId": "07132f66-ed73-4355-8c29-089f9b32b360"
      },
      "outputs": [
        {
          "data": {
            "text/plain": [
              "(558837, 16)"
            ]
          },
          "execution_count": 10,
          "metadata": {},
          "output_type": "execute_result"
        }
      ],
      "source": [
        "df.shape"
      ]
    },
    {
      "cell_type": "code",
      "execution_count": 11,
      "metadata": {
        "colab": {
          "base_uri": "https://localhost:8080/",
          "height": 366
        },
        "id": "CYRRhPkCDCct",
        "outputId": "6c6673c2-81f4-4f72-9554-0255d0fc8a79"
      },
      "outputs": [
        {
          "data": {
            "text/plain": [
              "year                0\n",
              "make            10301\n",
              "model           10399\n",
              "trim            10651\n",
              "body            13195\n",
              "transmission    65352\n",
              "vin                 4\n",
              "state               0\n",
              "condition       11820\n",
              "odometer           94\n",
              "color             749\n",
              "interior          749\n",
              "seller              0\n",
              "mmr                38\n",
              "sellingprice       12\n",
              "saledate           12\n",
              "dtype: int64"
            ]
          },
          "execution_count": 11,
          "metadata": {},
          "output_type": "execute_result"
        }
      ],
      "source": [
        "df.isnull().sum()"
      ]
    },
    {
      "cell_type": "code",
      "execution_count": 12,
      "metadata": {
        "colab": {
          "base_uri": "https://localhost:8080/"
        },
        "id": "2FSlIR7KvMiZ",
        "outputId": "04c8ce3b-3355-43bf-8920-39d03b38635f"
      },
      "outputs": [
        {
          "name": "stdout",
          "output_type": "stream",
          "text": [
            "<class 'pandas.core.frame.DataFrame'>\n",
            "RangeIndex: 558837 entries, 0 to 558836\n",
            "Data columns (total 16 columns):\n",
            " #   Column        Non-Null Count   Dtype  \n",
            "---  ------        --------------   -----  \n",
            " 0   year          558837 non-null  int64  \n",
            " 1   make          548536 non-null  object \n",
            " 2   model         548438 non-null  object \n",
            " 3   trim          548186 non-null  object \n",
            " 4   body          545642 non-null  object \n",
            " 5   transmission  493485 non-null  object \n",
            " 6   vin           558833 non-null  object \n",
            " 7   state         558837 non-null  object \n",
            " 8   condition     547017 non-null  float64\n",
            " 9   odometer      558743 non-null  float64\n",
            " 10  color         558088 non-null  object \n",
            " 11  interior      558088 non-null  object \n",
            " 12  seller        558837 non-null  object \n",
            " 13  mmr           558799 non-null  float64\n",
            " 14  sellingprice  558825 non-null  float64\n",
            " 15  saledate      558825 non-null  object \n",
            "dtypes: float64(4), int64(1), object(11)\n",
            "memory usage: 68.2+ MB\n"
          ]
        }
      ],
      "source": [
        "df.info()"
      ]
    },
    {
      "cell_type": "markdown",
      "metadata": {
        "id": "iZS1Uz37KA30"
      },
      "source": [
        "make column ki ros es liye hatayi kyonki vhtse catagories thi thoda thoda sb me bata hua tha"
      ]
    },
    {
      "cell_type": "code",
      "execution_count": 13,
      "metadata": {
        "colab": {
          "base_uri": "https://localhost:8080/",
          "height": 280
        },
        "id": "Gad7VXM8H1E4",
        "outputId": "f92b93a1-0c5d-4fb6-b067-69efd822002d"
      },
      "outputs": [
        {
          "data": {
            "text/plain": [
              "year                0\n",
              "make                0\n",
              "model              98\n",
              "trim              350\n",
              "body             2894\n",
              "transmission    63591\n",
              "vin                 4\n",
              "state               0\n",
              "condition       11733\n",
              "odometer           90\n",
              "color             734\n",
              "interior          734\n",
              "seller              0\n",
              "mmr                38\n",
              "sellingprice       12\n",
              "saledate           12\n",
              "dtype: int64"
            ]
          },
          "execution_count": 13,
          "metadata": {},
          "output_type": "execute_result"
        }
      ],
      "source": [
        "df=df.dropna(subset=['make'])\n",
        "df.isnull().sum()\n"
      ]
    },
    {
      "cell_type": "code",
      "execution_count": 14,
      "metadata": {
        "id": "XI759-irLP9E"
      },
      "outputs": [
        {
          "data": {
            "text/plain": [
              "make\n",
              "Acura                       TL\n",
              "Aston Martin        V8 Vantage\n",
              "Audi                        A4\n",
              "BMW                   3 Series\n",
              "Bentley         Continental GT\n",
              "                     ...      \n",
              "subaru                forester\n",
              "suzuki                   grand\n",
              "toyota                  tundra\n",
              "volkswagen              passat\n",
              "vw                      routan\n",
              "Name: model, Length: 96, dtype: object"
            ]
          },
          "execution_count": 14,
          "metadata": {},
          "output_type": "execute_result"
        }
      ],
      "source": [
        "dmost_common_model = df.groupby('make')['model'].agg(lambda x: x.mode().loc[0])\n",
        "dmost_common_model"
      ]
    },
    {
      "cell_type": "code",
      "execution_count": 15,
      "metadata": {
        "id": "EZkkNvznbQW0"
      },
      "outputs": [],
      "source": [
        "def fill_model(row):\n",
        "    if pd.isna(row['model']):\n",
        "        return dmost_common_model[row['make']]\n",
        "    return row['model']"
      ]
    },
    {
      "cell_type": "code",
      "execution_count": 16,
      "metadata": {
        "collapsed": true,
        "id": "8Jb7R-3Db_x2"
      },
      "outputs": [
        {
          "data": {
            "text/plain": [
              "year                0\n",
              "make                0\n",
              "model               0\n",
              "trim              350\n",
              "body             2894\n",
              "transmission    63591\n",
              "vin                 4\n",
              "state               0\n",
              "condition       11733\n",
              "odometer           90\n",
              "color             734\n",
              "interior          734\n",
              "seller              0\n",
              "mmr                38\n",
              "sellingprice       12\n",
              "saledate           12\n",
              "dtype: int64"
            ]
          },
          "execution_count": 16,
          "metadata": {},
          "output_type": "execute_result"
        }
      ],
      "source": [
        "df['model']=df.apply(fill_model,axis=1)\n",
        "df.isnull().sum()"
      ]
    },
    {
      "cell_type": "code",
      "execution_count": 17,
      "metadata": {
        "id": "Sl73aCW0rNVo"
      },
      "outputs": [
        {
          "data": {
            "text/plain": [
              "973"
            ]
          },
          "execution_count": 17,
          "metadata": {},
          "output_type": "execute_result"
        }
      ],
      "source": [
        "df['model'].nunique()"
      ]
    },
    {
      "cell_type": "code",
      "execution_count": 18,
      "metadata": {
        "id": "e3peW4Laroyh"
      },
      "outputs": [],
      "source": [
        "df['model']=df['model'].str.lower()"
      ]
    },
    {
      "cell_type": "code",
      "execution_count": 19,
      "metadata": {
        "id": "pInzBIZGr2rK"
      },
      "outputs": [
        {
          "data": {
            "text/plain": [
              "851"
            ]
          },
          "execution_count": 19,
          "metadata": {},
          "output_type": "execute_result"
        }
      ],
      "source": [
        "df['model'].nunique()"
      ]
    },
    {
      "cell_type": "code",
      "execution_count": 20,
      "metadata": {
        "id": "xR_LeQS2ha7V"
      },
      "outputs": [
        {
          "data": {
            "text/plain": [
              "year                0\n",
              "make                0\n",
              "model               0\n",
              "trim              350\n",
              "body             2872\n",
              "transmission    63591\n",
              "vin                 4\n",
              "state               0\n",
              "condition       11733\n",
              "odometer           90\n",
              "color             734\n",
              "interior          734\n",
              "seller              0\n",
              "mmr                38\n",
              "sellingprice       12\n",
              "saledate           12\n",
              "dtype: int64"
            ]
          },
          "execution_count": 20,
          "metadata": {},
          "output_type": "execute_result"
        }
      ],
      "source": [
        "df['body'] = df['body'].fillna(df.groupby('make')['body'].transform(lambda x: x.mode().iloc[0] if not x.mode().empty else np.nan))\n",
        "df.isnull().sum()"
      ]
    },
    {
      "cell_type": "code",
      "execution_count": 21,
      "metadata": {
        "id": "ZLD_cHjUi6j3"
      },
      "outputs": [
        {
          "data": {
            "text/plain": [
              "body\n",
              "Sedan          199458\n",
              "SUV            119292\n",
              "sedan           41906\n",
              "suv             24552\n",
              "Hatchback       21381\n",
              "                ...  \n",
              "CTS-V Wagon         1\n",
              "Ram Van             1\n",
              "g37 coupe           1\n",
              "cab plus 4          1\n",
              "cts wagon           1\n",
              "Name: count, Length: 87, dtype: int64"
            ]
          },
          "execution_count": 21,
          "metadata": {},
          "output_type": "execute_result"
        }
      ],
      "source": [
        "df['body'].value_counts()"
      ]
    },
    {
      "cell_type": "code",
      "execution_count": 22,
      "metadata": {
        "id": "NymAA3BakCFO"
      },
      "outputs": [],
      "source": [
        "df['body']=df['body'].apply(lambda x:x.lower() if pd.notna(x) else x)\n",
        "df['body']=df['body'].apply(lambda x:x if pd.notna(x) else 'sedan' )"
      ]
    },
    {
      "cell_type": "code",
      "execution_count": 23,
      "metadata": {
        "collapsed": true,
        "id": "J_7uazSXlPa0"
      },
      "outputs": [
        {
          "data": {
            "text/plain": [
              "body\n",
              "sedan                      244236\n",
              "suv                        143844\n",
              "hatchback                   26238\n",
              "minivan                     25529\n",
              "coupe                       17752\n",
              "crew cab                    16394\n",
              "wagon                       16129\n",
              "convertible                 10476\n",
              "supercrew                    9033\n",
              "g sedan                      7417\n",
              "supercab                     5311\n",
              "regular cab                  4850\n",
              "van                          4528\n",
              "extended cab                 4507\n",
              "quad cab                     4095\n",
              "e-series van                 1823\n",
              "double cab                   1601\n",
              "g coupe                      1593\n",
              "crewmax cab                   565\n",
              "king cab                      532\n",
              "g convertible                 323\n",
              "genesis coupe                 294\n",
              "access cab                    294\n",
              "koup                          180\n",
              "club cab                      178\n",
              "cts coupe                     158\n",
              "mega cab                      111\n",
              "elantra coupe                 103\n",
              "beetle convertible             59\n",
              "promaster cargo van            59\n",
              "xtracab                        44\n",
              "q60 convertible                42\n",
              "tsx sport wagon                36\n",
              "q60 coupe                      36\n",
              "cts-v coupe                    35\n",
              "navitgation                    26\n",
              "g37 convertible                20\n",
              "transit van                    19\n",
              "regular-cab                    15\n",
              "cts wagon                      14\n",
              "granturismo convertible        13\n",
              "g37 coupe                      12\n",
              "cab plus 4                      6\n",
              "cab plus                        4\n",
              "cts-v wagon                     1\n",
              "ram van                         1\n",
              "Name: count, dtype: int64"
            ]
          },
          "execution_count": 23,
          "metadata": {},
          "output_type": "execute_result"
        }
      ],
      "source": [
        "df['body'].value_counts()"
      ]
    },
    {
      "cell_type": "code",
      "execution_count": 24,
      "metadata": {
        "collapsed": true,
        "id": "yUM-3Xe-pNlc"
      },
      "outputs": [
        {
          "data": {
            "text/plain": [
              "year                0\n",
              "make                0\n",
              "model               0\n",
              "trim              350\n",
              "body                0\n",
              "transmission    63591\n",
              "vin                 4\n",
              "state               0\n",
              "condition       11733\n",
              "odometer           90\n",
              "color             734\n",
              "interior          734\n",
              "seller              0\n",
              "mmr                38\n",
              "sellingprice       12\n",
              "saledate           12\n",
              "dtype: int64"
            ]
          },
          "execution_count": 24,
          "metadata": {},
          "output_type": "execute_result"
        }
      ],
      "source": [
        "df.isnull().sum()"
      ]
    },
    {
      "cell_type": "code",
      "execution_count": null,
      "metadata": {
        "id": "SsGS7L_SvIH1"
      },
      "outputs": [],
      "source": []
    },
    {
      "cell_type": "code",
      "execution_count": 25,
      "metadata": {
        "collapsed": true,
        "id": "WR-dq87Kp5eV"
      },
      "outputs": [
        {
          "data": {
            "text/plain": [
              "np.int64(0)"
            ]
          },
          "execution_count": 25,
          "metadata": {},
          "output_type": "execute_result"
        }
      ],
      "source": [
        "df['transmission']=df['transmission'].str.lower()\n",
        "df['transmission'] = df['transmission'].fillna(df.groupby('model')['transmission'].transform(lambda x: x.mode().iloc[0] if not x.mode().empty else np.nan))\n",
        "df['transmission'] = df['transmission'].fillna(df['transmission'].mode()[0])\n",
        "df['transmission'].isnull().sum()\n"
      ]
    },
    {
      "cell_type": "code",
      "execution_count": 26,
      "metadata": {
        "id": "L-p75Ko3qcmb"
      },
      "outputs": [
        {
          "data": {
            "text/plain": [
              "array(['automatic', 'manual', 'sedan'], dtype=object)"
            ]
          },
          "execution_count": 26,
          "metadata": {},
          "output_type": "execute_result"
        }
      ],
      "source": [
        "df['transmission'].unique()"
      ]
    },
    {
      "cell_type": "code",
      "execution_count": 27,
      "metadata": {
        "collapsed": true,
        "id": "s4tnHZV848cn"
      },
      "outputs": [
        {
          "data": {
            "text/plain": [
              "year                0\n",
              "make                0\n",
              "model               0\n",
              "trim              350\n",
              "body                0\n",
              "transmission        0\n",
              "vin                 4\n",
              "state               0\n",
              "condition       11733\n",
              "odometer           90\n",
              "color             734\n",
              "interior          734\n",
              "seller              0\n",
              "mmr                38\n",
              "sellingprice       12\n",
              "saledate           12\n",
              "dtype: int64"
            ]
          },
          "execution_count": 27,
          "metadata": {},
          "output_type": "execute_result"
        }
      ],
      "source": [
        "df.isnull().sum()"
      ]
    },
    {
      "cell_type": "markdown",
      "metadata": {
        "id": "aIXw4UqFsYtH"
      },
      "source": [
        "condition column"
      ]
    },
    {
      "cell_type": "code",
      "execution_count": 28,
      "metadata": {
        "id": "hSlg0XO95Sej"
      },
      "outputs": [
        {
          "data": {
            "text/plain": [
              "count    536803.000000\n",
              "mean         30.777762\n",
              "std          13.376737\n",
              "min           1.000000\n",
              "25%          24.000000\n",
              "50%          35.000000\n",
              "75%          42.000000\n",
              "max          49.000000\n",
              "Name: condition, dtype: float64"
            ]
          },
          "execution_count": 28,
          "metadata": {},
          "output_type": "execute_result"
        }
      ],
      "source": [
        "df['condition'].describe()"
      ]
    },
    {
      "cell_type": "code",
      "execution_count": 29,
      "metadata": {
        "id": "zlXwsK6o6Uy-"
      },
      "outputs": [
        {
          "data": {
            "text/plain": [
              "np.float64(30.77776204678439)"
            ]
          },
          "execution_count": 29,
          "metadata": {},
          "output_type": "execute_result"
        }
      ],
      "source": [
        "df['condition'].mean()"
      ]
    },
    {
      "cell_type": "code",
      "execution_count": 30,
      "metadata": {
        "id": "DcLEdkCm5aZK"
      },
      "outputs": [
        {
          "data": {
            "text/plain": [
              "array([ 5., 45., 41., 43.,  1., 34.,  2., 42.,  3., 48., nan, 49., 17.,\n",
              "       19., 29., 38., 44., 47., 32.,  4., 25., 37., 39., 31., 28., 46.,\n",
              "       36., 35., 26., 21., 22., 27., 24., 33., 23., 15., 16., 18., 12.,\n",
              "       14., 11., 13.])"
            ]
          },
          "execution_count": 30,
          "metadata": {},
          "output_type": "execute_result"
        }
      ],
      "source": [
        "df['condition'].unique()"
      ]
    },
    {
      "cell_type": "code",
      "execution_count": 31,
      "metadata": {
        "id": "CB_TPYpG61BN"
      },
      "outputs": [
        {
          "data": {
            "image/png": "[encoded data removed]",
            "text/plain": [
              "<Figure size 640x480 with 1 Axes>"
            ]
          },
          "metadata": {},
          "output_type": "display_data"
        }
      ],
      "source": [
        "sns.histplot(df['condition'], bins=20, kde=True)\n",
        "plt.title('Distribution of Condition Score')\n",
        "plt.xlabel('Condition Score')\n",
        "plt.ylabel('Frequency')\n",
        "plt.show()"
      ]
    },
    {
      "cell_type": "code",
      "execution_count": 32,
      "metadata": {
        "id": "Zxu8CKpu7Z77"
      },
      "outputs": [
        {
          "name": "stderr",
          "output_type": "stream",
          "text": [
            "C:\\Users\\dell\\AppData\\Local\\Temp\\ipykernel_14860\\4134560860.py:1: FutureWarning: Series.fillna with 'method' is deprecated and will raise in a future version. Use obj.ffill() or obj.bfill() instead.\n",
            "  df['condition']=df['condition'].fillna(method='bfill')\n"
          ]
        }
      ],
      "source": [
        "df['condition']=df['condition'].fillna(method='bfill')"
      ]
    },
    {
      "cell_type": "code",
      "execution_count": 33,
      "metadata": {
        "id": "J9BUg66J750b"
      },
      "outputs": [
        {
          "data": {
            "image/png": "[encoded data removed]",
            "text/plain": [
              "<Figure size 640x480 with 1 Axes>"
            ]
          },
          "metadata": {},
          "output_type": "display_data"
        }
      ],
      "source": [
        "sns.histplot(df['condition'], bins=20, kde=True)\n",
        "plt.title('Distribution of Condition Score')\n",
        "plt.xlabel('Condition Score')\n",
        "plt.ylabel('Frequency')\n",
        "plt.show()"
      ]
    },
    {
      "cell_type": "code",
      "execution_count": 34,
      "metadata": {
        "id": "C6nFAfA48u_J"
      },
      "outputs": [
        {
          "data": {
            "text/plain": [
              "np.int64(0)"
            ]
          },
          "execution_count": 34,
          "metadata": {},
          "output_type": "execute_result"
        }
      ],
      "source": [
        "df['condition'].isnull().sum()"
      ]
    },
    {
      "cell_type": "code",
      "execution_count": 35,
      "metadata": {
        "id": "d10o8K4x_0nL"
      },
      "outputs": [
        {
          "name": "stderr",
          "output_type": "stream",
          "text": [
            "C:\\Users\\dell\\AppData\\Local\\Temp\\ipykernel_14860\\940033274.py:1: FutureWarning: A value is trying to be set on a copy of a DataFrame or Series through chained assignment using an inplace method.\n",
            "The behavior will change in pandas 3.0. This inplace method will never work because the intermediate object on which we are setting values always behaves as a copy.\n",
            "\n",
            "For example, when doing 'df[col].method(value, inplace=True)', try using 'df.method({col: value}, inplace=True)' or df[col] = df[col].method(value) instead, to perform the operation inplace on the original object.\n",
            "\n",
            "\n",
            "  df['condition'].fillna(df['condition'].mean(), inplace=True)\n"
          ]
        }
      ],
      "source": [
        "df['condition'].fillna(df['condition'].mean(), inplace=True)"
      ]
    },
    {
      "cell_type": "code",
      "execution_count": 36,
      "metadata": {
        "id": "J_pty30l9E_d"
      },
      "outputs": [
        {
          "data": {
            "text/plain": [
              "year              0\n",
              "make              0\n",
              "model             0\n",
              "trim            350\n",
              "body              0\n",
              "transmission      0\n",
              "vin               4\n",
              "state             0\n",
              "condition         0\n",
              "odometer         90\n",
              "color           734\n",
              "interior        734\n",
              "seller            0\n",
              "mmr              38\n",
              "sellingprice     12\n",
              "saledate         12\n",
              "dtype: int64"
            ]
          },
          "execution_count": 36,
          "metadata": {},
          "output_type": "execute_result"
        }
      ],
      "source": [
        "df.isnull().sum()"
      ]
    },
    {
      "cell_type": "markdown",
      "metadata": {
        "id": "0uzjrjEs9d-d"
      },
      "source": [
        "# ***`odometer column`***"
      ]
    },
    {
      "cell_type": "code",
      "execution_count": 37,
      "metadata": {
        "id": "M8av7jC-9cCH"
      },
      "outputs": [
        {
          "data": {
            "text/plain": [
              "count    548446.000000\n",
              "mean      67523.986568\n",
              "std       52910.538066\n",
              "min           1.000000\n",
              "25%       28131.000000\n",
              "50%       51396.000000\n",
              "75%       97912.000000\n",
              "max      999999.000000\n",
              "Name: odometer, dtype: float64"
            ]
          },
          "execution_count": 37,
          "metadata": {},
          "output_type": "execute_result"
        }
      ],
      "source": [
        "df['odometer'].describe()"
      ]
    },
    {
      "cell_type": "code",
      "execution_count": 38,
      "metadata": {
        "id": "I3c2m34x95gb"
      },
      "outputs": [
        {
          "name": "stderr",
          "output_type": "stream",
          "text": [
            "C:\\Users\\dell\\AppData\\Roaming\\Python\\Python311\\site-packages\\IPython\\core\\pylabtools.py:170: UserWarning: Glyph 9 (\t) missing from font(s) DejaVu Sans.\n",
            "  fig.canvas.print_figure(bytes_io, **kw)\n"
          ]
        },
        {
          "data": {
            "image/png": "[encoded data removed]",
            "text/plain": [
              "<Figure size 640x480 with 1 Axes>"
            ]
          },
          "metadata": {},
          "output_type": "display_data"
        }
      ],
      "source": [
        "sns.histplot(df['odometer'], bins=20, kde=True)\n",
        "plt.title('Distribution of \todometer Score')\n",
        "plt.xlabel('\todometer Score')\n",
        "plt.ylabel('Frequency')\n",
        "plt.show()"
      ]
    },
    {
      "cell_type": "code",
      "execution_count": 39,
      "metadata": {
        "id": "VuSGRtRt-KZj"
      },
      "outputs": [
        {
          "name": "stderr",
          "output_type": "stream",
          "text": [
            "C:\\Users\\dell\\AppData\\Local\\Temp\\ipykernel_14860\\1826232651.py:1: FutureWarning: Series.fillna with 'method' is deprecated and will raise in a future version. Use obj.ffill() or obj.bfill() instead.\n",
            "  df['odometer']=df['odometer'].fillna(method='bfill')\n"
          ]
        }
      ],
      "source": [
        "df['odometer']=df['odometer'].fillna(method='bfill')"
      ]
    },
    {
      "cell_type": "code",
      "execution_count": 40,
      "metadata": {
        "id": "emaFuTAh-T_M"
      },
      "outputs": [
        {
          "name": "stderr",
          "output_type": "stream",
          "text": [
            "C:\\Users\\dell\\AppData\\Roaming\\Python\\Python311\\site-packages\\IPython\\core\\pylabtools.py:170: UserWarning: Glyph 9 (\t) missing from font(s) DejaVu Sans.\n",
            "  fig.canvas.print_figure(bytes_io, **kw)\n"
          ]
        },
        {
          "data": {
            "image/png": "[encoded data removed]",
            "text/plain": [
              "<Figure size 640x480 with 1 Axes>"
            ]
          },
          "metadata": {},
          "output_type": "display_data"
        }
      ],
      "source": [
        "sns.histplot(df['odometer'], bins=20, kde=True)\n",
        "plt.title('Distribution of \todometer Score')\n",
        "plt.xlabel('\todometer Score')\n",
        "plt.ylabel('Frequency')\n",
        "plt.show()"
      ]
    },
    {
      "cell_type": "code",
      "execution_count": 41,
      "metadata": {
        "id": "cN4xvjwk-m0U"
      },
      "outputs": [
        {
          "data": {
            "text/plain": [
              "year              0\n",
              "make              0\n",
              "model             0\n",
              "trim            350\n",
              "body              0\n",
              "transmission      0\n",
              "vin               4\n",
              "state             0\n",
              "condition         0\n",
              "odometer          0\n",
              "color           734\n",
              "interior        734\n",
              "seller            0\n",
              "mmr              38\n",
              "sellingprice     12\n",
              "saledate         12\n",
              "dtype: int64"
            ]
          },
          "execution_count": 41,
          "metadata": {},
          "output_type": "execute_result"
        }
      ],
      "source": [
        "df.isnull().sum()"
      ]
    },
    {
      "cell_type": "code",
      "execution_count": null,
      "metadata": {
        "id": "7bkx5SlAC05W"
      },
      "outputs": [],
      "source": []
    },
    {
      "cell_type": "code",
      "execution_count": 42,
      "metadata": {
        "id": "1IqwjTdg-mq6"
      },
      "outputs": [
        {
          "data": {
            "text/html": [
              "<div>\n",
              "<style scoped>\n",
              "    .dataframe tbody tr th:only-of-type {\n",
              "        vertical-align: middle;\n",
              "    }\n",
              "\n",
              "    .dataframe tbody tr th {\n",
              "        vertical-align: top;\n",
              "    }\n",
              "\n",
              "    .dataframe thead th {\n",
              "        text-align: right;\n",
              "    }\n",
              "</style>\n",
              "<table border=\"1\" class=\"dataframe\">\n",
              "  <thead>\n",
              "    <tr style=\"text-align: right;\">\n",
              "      <th></th>\n",
              "      <th>year</th>\n",
              "      <th>make</th>\n",
              "      <th>model</th>\n",
              "      <th>trim</th>\n",
              "      <th>body</th>\n",
              "      <th>transmission</th>\n",
              "      <th>vin</th>\n",
              "      <th>state</th>\n",
              "      <th>condition</th>\n",
              "      <th>odometer</th>\n",
              "      <th>color</th>\n",
              "      <th>interior</th>\n",
              "      <th>seller</th>\n",
              "      <th>mmr</th>\n",
              "      <th>sellingprice</th>\n",
              "      <th>saledate</th>\n",
              "    </tr>\n",
              "  </thead>\n",
              "  <tbody>\n",
              "    <tr>\n",
              "      <th>493</th>\n",
              "      <td>2013</td>\n",
              "      <td>Mercedes-Benz</td>\n",
              "      <td>m-class</td>\n",
              "      <td>ML350</td>\n",
              "      <td>suv</td>\n",
              "      <td>automatic</td>\n",
              "      <td>4jgda5jb6da160181</td>\n",
              "      <td>ca</td>\n",
              "      <td>46.0</td>\n",
              "      <td>32532.0</td>\n",
              "      <td>NaN</td>\n",
              "      <td>NaN</td>\n",
              "      <td>trade in solutions irvine</td>\n",
              "      <td>36100.0</td>\n",
              "      <td>34500.0</td>\n",
              "      <td>Tue Dec 16 2014 12:30:00 GMT-0800 (PST)</td>\n",
              "    </tr>\n",
              "    <tr>\n",
              "      <th>1723</th>\n",
              "      <td>2012</td>\n",
              "      <td>Mercedes-Benz</td>\n",
              "      <td>m-class</td>\n",
              "      <td>ML63 AMG</td>\n",
              "      <td>suv</td>\n",
              "      <td>automatic</td>\n",
              "      <td>4jgda7eb0ca049551</td>\n",
              "      <td>ca</td>\n",
              "      <td>42.0</td>\n",
              "      <td>1.0</td>\n",
              "      <td>NaN</td>\n",
              "      <td>NaN</td>\n",
              "      <td>high bid trading co inc</td>\n",
              "      <td>69000.0</td>\n",
              "      <td>18500.0</td>\n",
              "      <td>Thu Dec 18 2014 12:00:00 GMT-0800 (PST)</td>\n",
              "    </tr>\n",
              "    <tr>\n",
              "      <th>1824</th>\n",
              "      <td>2011</td>\n",
              "      <td>BMW</td>\n",
              "      <td>m3</td>\n",
              "      <td>Base</td>\n",
              "      <td>sedan</td>\n",
              "      <td>automatic</td>\n",
              "      <td>wbspm9c59be699111</td>\n",
              "      <td>ca</td>\n",
              "      <td>4.0</td>\n",
              "      <td>26406.0</td>\n",
              "      <td>NaN</td>\n",
              "      <td>NaN</td>\n",
              "      <td>financial services remarketing (lease)</td>\n",
              "      <td>41100.0</td>\n",
              "      <td>42500.0</td>\n",
              "      <td>Thu Dec 18 2014 12:30:00 GMT-0800 (PST)</td>\n",
              "    </tr>\n",
              "    <tr>\n",
              "      <th>2257</th>\n",
              "      <td>2011</td>\n",
              "      <td>Mercedes-Benz</td>\n",
              "      <td>c-class</td>\n",
              "      <td>C350 Sport</td>\n",
              "      <td>sedan</td>\n",
              "      <td>automatic</td>\n",
              "      <td>wddgf5gbxbr146489</td>\n",
              "      <td>ca</td>\n",
              "      <td>36.0</td>\n",
              "      <td>34961.0</td>\n",
              "      <td>NaN</td>\n",
              "      <td>NaN</td>\n",
              "      <td>mercedes-benz financial services</td>\n",
              "      <td>21400.0</td>\n",
              "      <td>21500.0</td>\n",
              "      <td>Thu Dec 18 2014 12:30:00 GMT-0800 (PST)</td>\n",
              "    </tr>\n",
              "    <tr>\n",
              "      <th>2334</th>\n",
              "      <td>2011</td>\n",
              "      <td>Mercedes-Benz</td>\n",
              "      <td>cls-class</td>\n",
              "      <td>CLS550</td>\n",
              "      <td>sedan</td>\n",
              "      <td>automatic</td>\n",
              "      <td>wdddj7cbxba169305</td>\n",
              "      <td>ca</td>\n",
              "      <td>35.0</td>\n",
              "      <td>27372.0</td>\n",
              "      <td>NaN</td>\n",
              "      <td>NaN</td>\n",
              "      <td>mercedes-benz usa</td>\n",
              "      <td>34500.0</td>\n",
              "      <td>30000.0</td>\n",
              "      <td>Thu Dec 18 2014 12:00:00 GMT-0800 (PST)</td>\n",
              "    </tr>\n",
              "    <tr>\n",
              "      <th>...</th>\n",
              "      <td>...</td>\n",
              "      <td>...</td>\n",
              "      <td>...</td>\n",
              "      <td>...</td>\n",
              "      <td>...</td>\n",
              "      <td>...</td>\n",
              "      <td>...</td>\n",
              "      <td>...</td>\n",
              "      <td>...</td>\n",
              "      <td>...</td>\n",
              "      <td>...</td>\n",
              "      <td>...</td>\n",
              "      <td>...</td>\n",
              "      <td>...</td>\n",
              "      <td>...</td>\n",
              "      <td>...</td>\n",
              "    </tr>\n",
              "    <tr>\n",
              "      <th>548377</th>\n",
              "      <td>2015</td>\n",
              "      <td>MINI</td>\n",
              "      <td>cooper countryman</td>\n",
              "      <td>S ALL4</td>\n",
              "      <td>wagon</td>\n",
              "      <td>automatic</td>\n",
              "      <td>wmwzc5c54fwp46411</td>\n",
              "      <td>oh</td>\n",
              "      <td>47.0</td>\n",
              "      <td>3569.0</td>\n",
              "      <td>NaN</td>\n",
              "      <td>NaN</td>\n",
              "      <td>bmw mini north america</td>\n",
              "      <td>29500.0</td>\n",
              "      <td>31250.0</td>\n",
              "      <td>Tue Jun 16 2015 07:00:00 GMT-0700 (PDT)</td>\n",
              "    </tr>\n",
              "    <tr>\n",
              "      <th>550197</th>\n",
              "      <td>2012</td>\n",
              "      <td>Nissan</td>\n",
              "      <td>frontier</td>\n",
              "      <td>SV</td>\n",
              "      <td>crew cab</td>\n",
              "      <td>automatic</td>\n",
              "      <td>1n6ad0er2cc456064</td>\n",
              "      <td>tx</td>\n",
              "      <td>34.0</td>\n",
              "      <td>87082.0</td>\n",
              "      <td>NaN</td>\n",
              "      <td>NaN</td>\n",
              "      <td>fairway ford henderson</td>\n",
              "      <td>15050.0</td>\n",
              "      <td>15500.0</td>\n",
              "      <td>Wed Jun 17 2015 03:00:00 GMT-0700 (PDT)</td>\n",
              "    </tr>\n",
              "    <tr>\n",
              "      <th>553040</th>\n",
              "      <td>2011</td>\n",
              "      <td>Ford</td>\n",
              "      <td>f-150</td>\n",
              "      <td>Lariat</td>\n",
              "      <td>supercrew</td>\n",
              "      <td>automatic</td>\n",
              "      <td>1ftfw1et2bfa51808</td>\n",
              "      <td>tn</td>\n",
              "      <td>19.0</td>\n",
              "      <td>67302.0</td>\n",
              "      <td>NaN</td>\n",
              "      <td>NaN</td>\n",
              "      <td>midtown motors</td>\n",
              "      <td>26200.0</td>\n",
              "      <td>27500.0</td>\n",
              "      <td>Wed Jun 17 2015 03:30:00 GMT-0700 (PDT)</td>\n",
              "    </tr>\n",
              "    <tr>\n",
              "      <th>553525</th>\n",
              "      <td>2014</td>\n",
              "      <td>Chevrolet</td>\n",
              "      <td>equinox</td>\n",
              "      <td>LTZ</td>\n",
              "      <td>suv</td>\n",
              "      <td>automatic</td>\n",
              "      <td>1gnaldek6ez103530</td>\n",
              "      <td>mo</td>\n",
              "      <td>48.0</td>\n",
              "      <td>24425.0</td>\n",
              "      <td>NaN</td>\n",
              "      <td>NaN</td>\n",
              "      <td>all star dodge chrysler jeep</td>\n",
              "      <td>24600.0</td>\n",
              "      <td>23900.0</td>\n",
              "      <td>Tue Jun 16 2015 04:00:00 GMT-0700 (PDT)</td>\n",
              "    </tr>\n",
              "    <tr>\n",
              "      <th>557042</th>\n",
              "      <td>2008</td>\n",
              "      <td>Jeep</td>\n",
              "      <td>liberty</td>\n",
              "      <td>Sport</td>\n",
              "      <td>suv</td>\n",
              "      <td>automatic</td>\n",
              "      <td>1j8gn28k28w229766</td>\n",
              "      <td>ga</td>\n",
              "      <td>28.0</td>\n",
              "      <td>144339.0</td>\n",
              "      <td>NaN</td>\n",
              "      <td>NaN</td>\n",
              "      <td>us auto sales inc</td>\n",
              "      <td>5650.0</td>\n",
              "      <td>4600.0</td>\n",
              "      <td>Thu Jun 18 2015 03:00:00 GMT-0700 (PDT)</td>\n",
              "    </tr>\n",
              "  </tbody>\n",
              "</table>\n",
              "<p>734 rows × 16 columns</p>\n",
              "</div>"
            ],
            "text/plain": [
              "        year           make              model        trim       body  \\\n",
              "493     2013  Mercedes-Benz            m-class       ML350        suv   \n",
              "1723    2012  Mercedes-Benz            m-class    ML63 AMG        suv   \n",
              "1824    2011            BMW                 m3        Base      sedan   \n",
              "2257    2011  Mercedes-Benz            c-class  C350 Sport      sedan   \n",
              "2334    2011  Mercedes-Benz          cls-class      CLS550      sedan   \n",
              "...      ...            ...                ...         ...        ...   \n",
              "548377  2015           MINI  cooper countryman      S ALL4      wagon   \n",
              "550197  2012         Nissan           frontier          SV   crew cab   \n",
              "553040  2011           Ford              f-150      Lariat  supercrew   \n",
              "553525  2014      Chevrolet            equinox         LTZ        suv   \n",
              "557042  2008           Jeep            liberty       Sport        suv   \n",
              "\n",
              "       transmission                vin state  condition  odometer color  \\\n",
              "493       automatic  4jgda5jb6da160181    ca       46.0   32532.0   NaN   \n",
              "1723      automatic  4jgda7eb0ca049551    ca       42.0       1.0   NaN   \n",
              "1824      automatic  wbspm9c59be699111    ca        4.0   26406.0   NaN   \n",
              "2257      automatic  wddgf5gbxbr146489    ca       36.0   34961.0   NaN   \n",
              "2334      automatic  wdddj7cbxba169305    ca       35.0   27372.0   NaN   \n",
              "...             ...                ...   ...        ...       ...   ...   \n",
              "548377    automatic  wmwzc5c54fwp46411    oh       47.0    3569.0   NaN   \n",
              "550197    automatic  1n6ad0er2cc456064    tx       34.0   87082.0   NaN   \n",
              "553040    automatic  1ftfw1et2bfa51808    tn       19.0   67302.0   NaN   \n",
              "553525    automatic  1gnaldek6ez103530    mo       48.0   24425.0   NaN   \n",
              "557042    automatic  1j8gn28k28w229766    ga       28.0  144339.0   NaN   \n",
              "\n",
              "       interior                                  seller      mmr  \\\n",
              "493         NaN               trade in solutions irvine  36100.0   \n",
              "1723        NaN                 high bid trading co inc  69000.0   \n",
              "1824        NaN  financial services remarketing (lease)  41100.0   \n",
              "2257        NaN        mercedes-benz financial services  21400.0   \n",
              "2334        NaN                       mercedes-benz usa  34500.0   \n",
              "...         ...                                     ...      ...   \n",
              "548377      NaN                  bmw mini north america  29500.0   \n",
              "550197      NaN                  fairway ford henderson  15050.0   \n",
              "553040      NaN                          midtown motors  26200.0   \n",
              "553525      NaN            all star dodge chrysler jeep  24600.0   \n",
              "557042      NaN                       us auto sales inc   5650.0   \n",
              "\n",
              "        sellingprice                                 saledate  \n",
              "493          34500.0  Tue Dec 16 2014 12:30:00 GMT-0800 (PST)  \n",
              "1723         18500.0  Thu Dec 18 2014 12:00:00 GMT-0800 (PST)  \n",
              "1824         42500.0  Thu Dec 18 2014 12:30:00 GMT-0800 (PST)  \n",
              "2257         21500.0  Thu Dec 18 2014 12:30:00 GMT-0800 (PST)  \n",
              "2334         30000.0  Thu Dec 18 2014 12:00:00 GMT-0800 (PST)  \n",
              "...              ...                                      ...  \n",
              "548377       31250.0  Tue Jun 16 2015 07:00:00 GMT-0700 (PDT)  \n",
              "550197       15500.0  Wed Jun 17 2015 03:00:00 GMT-0700 (PDT)  \n",
              "553040       27500.0  Wed Jun 17 2015 03:30:00 GMT-0700 (PDT)  \n",
              "553525       23900.0  Tue Jun 16 2015 04:00:00 GMT-0700 (PDT)  \n",
              "557042        4600.0  Thu Jun 18 2015 03:00:00 GMT-0700 (PDT)  \n",
              "\n",
              "[734 rows x 16 columns]"
            ]
          },
          "execution_count": 42,
          "metadata": {},
          "output_type": "execute_result"
        }
      ],
      "source": [
        "df[df['color'].isnull()]\n"
      ]
    },
    {
      "cell_type": "code",
      "execution_count": 43,
      "metadata": {
        "id": "yPMC5hwrDsv_"
      },
      "outputs": [
        {
          "name": "stderr",
          "output_type": "stream",
          "text": [
            "C:\\Users\\dell\\AppData\\Roaming\\Python\\Python311\\site-packages\\IPython\\core\\pylabtools.py:170: UserWarning: Glyph 9 (\t) missing from font(s) DejaVu Sans.\n",
            "  fig.canvas.print_figure(bytes_io, **kw)\n"
          ]
        },
        {
          "data": {
            "image/png": "[encoded data removed]",
            "text/plain": [
              "<Figure size 1600x600 with 1 Axes>"
            ]
          },
          "metadata": {},
          "output_type": "display_data"
        },
        {
          "name": "stderr",
          "output_type": "stream",
          "text": [
            "C:\\Users\\dell\\AppData\\Roaming\\Python\\Python311\\site-packages\\IPython\\core\\pylabtools.py:170: UserWarning: Glyph 9 (\t) missing from font(s) DejaVu Sans.\n",
            "  fig.canvas.print_figure(bytes_io, **kw)\n"
          ]
        },
        {
          "data": {
            "image/png": "[encoded data removed]",
            "text/plain": [
              "<Figure size 1600x600 with 1 Axes>"
            ]
          },
          "metadata": {},
          "output_type": "display_data"
        },
        {
          "data": {
            "text/plain": [
              "<Figure size 640x480 with 0 Axes>"
            ]
          },
          "metadata": {},
          "output_type": "display_data"
        }
      ],
      "source": [
        "import matplotlib.pyplot as plt\n",
        "\n",
        "plt.figure(figsize=(16, 6))\n",
        "\n",
        "# First subplot\n",
        "plt.subplot(2, 1, 1)\n",
        "sns.histplot(df['color'], bins=20, kde=True)\n",
        "plt.title('Distribution of color Score')\n",
        "plt.xlabel('\tcolor')\n",
        "plt.ylabel('Frequency')\n",
        "plt.show()\n",
        "\n",
        "# Second subplot\n",
        "plt.figure(figsize=(16, 6))\n",
        "\n",
        "plt.subplot(2, 1, 2)\n",
        "sns.histplot(df['interior'], bins=20, kde=True)\n",
        "plt.title('Distribution of \tinterior Score')\n",
        "plt.xlabel('\tinterior Score')\n",
        "plt.ylabel('Frequency')\n",
        "plt.show()\n",
        "\n",
        "plt.tight_layout()\n",
        "plt.show()\n"
      ]
    },
    {
      "cell_type": "code",
      "execution_count": 44,
      "metadata": {
        "id": "kofSsm_ADF_2"
      },
      "outputs": [
        {
          "name": "stderr",
          "output_type": "stream",
          "text": [
            "C:\\Users\\dell\\AppData\\Local\\Temp\\ipykernel_14860\\3830487938.py:1: FutureWarning: DataFrame.fillna with 'method' is deprecated and will raise in a future version. Use obj.ffill() or obj.bfill() instead.\n",
            "  df[['color',\t'interior']]=df[['color',\t'interior']].fillna(method='bfill')\n"
          ]
        }
      ],
      "source": [
        "df[['color',\t'interior']]=df[['color',\t'interior']].fillna(method='bfill')"
      ]
    },
    {
      "cell_type": "code",
      "execution_count": 45,
      "metadata": {
        "id": "zHycY_BFHKyp"
      },
      "outputs": [
        {
          "data": {
            "text/html": [
              "<div>\n",
              "<style scoped>\n",
              "    .dataframe tbody tr th:only-of-type {\n",
              "        vertical-align: middle;\n",
              "    }\n",
              "\n",
              "    .dataframe tbody tr th {\n",
              "        vertical-align: top;\n",
              "    }\n",
              "\n",
              "    .dataframe thead th {\n",
              "        text-align: right;\n",
              "    }\n",
              "</style>\n",
              "<table border=\"1\" class=\"dataframe\">\n",
              "  <thead>\n",
              "    <tr style=\"text-align: right;\">\n",
              "      <th></th>\n",
              "      <th>year</th>\n",
              "      <th>make</th>\n",
              "      <th>model</th>\n",
              "      <th>trim</th>\n",
              "      <th>body</th>\n",
              "      <th>transmission</th>\n",
              "      <th>vin</th>\n",
              "      <th>state</th>\n",
              "      <th>condition</th>\n",
              "      <th>odometer</th>\n",
              "      <th>color</th>\n",
              "      <th>interior</th>\n",
              "      <th>seller</th>\n",
              "      <th>mmr</th>\n",
              "      <th>sellingprice</th>\n",
              "      <th>saledate</th>\n",
              "    </tr>\n",
              "  </thead>\n",
              "  <tbody>\n",
              "  </tbody>\n",
              "</table>\n",
              "</div>"
            ],
            "text/plain": [
              "Empty DataFrame\n",
              "Columns: [year, make, model, trim, body, transmission, vin, state, condition, odometer, color, interior, seller, mmr, sellingprice, saledate]\n",
              "Index: []"
            ]
          },
          "execution_count": 45,
          "metadata": {},
          "output_type": "execute_result"
        }
      ],
      "source": [
        "df[df['color'].isnull()]\n"
      ]
    },
    {
      "cell_type": "code",
      "execution_count": 46,
      "metadata": {
        "id": "mtMIG96542wh"
      },
      "outputs": [
        {
          "data": {
            "text/plain": [
              "year              0\n",
              "make              0\n",
              "model             0\n",
              "trim            350\n",
              "body              0\n",
              "transmission      0\n",
              "vin               4\n",
              "state             0\n",
              "condition         0\n",
              "odometer          0\n",
              "color             0\n",
              "interior          0\n",
              "seller            0\n",
              "mmr              38\n",
              "sellingprice     12\n",
              "saledate         12\n",
              "dtype: int64"
            ]
          },
          "execution_count": 46,
          "metadata": {},
          "output_type": "execute_result"
        }
      ],
      "source": [
        "df.isnull().sum()"
      ]
    },
    {
      "cell_type": "code",
      "execution_count": 47,
      "metadata": {
        "id": "fhtOA9m75VVL"
      },
      "outputs": [
        {
          "data": {
            "text/plain": [
              "0         False\n",
              "1         False\n",
              "2         False\n",
              "3         False\n",
              "4         False\n",
              "          ...  \n",
              "558832    False\n",
              "558833    False\n",
              "558834    False\n",
              "558835    False\n",
              "558836    False\n",
              "Name: sellingprice, Length: 548536, dtype: bool"
            ]
          },
          "execution_count": 47,
          "metadata": {},
          "output_type": "execute_result"
        }
      ],
      "source": [
        "df['sellingprice'].isnull()"
      ]
    },
    {
      "cell_type": "code",
      "execution_count": 48,
      "metadata": {
        "id": "svr7g-3XE7bA"
      },
      "outputs": [
        {
          "data": {
            "text/html": [
              "<div>\n",
              "<style scoped>\n",
              "    .dataframe tbody tr th:only-of-type {\n",
              "        vertical-align: middle;\n",
              "    }\n",
              "\n",
              "    .dataframe tbody tr th {\n",
              "        vertical-align: top;\n",
              "    }\n",
              "\n",
              "    .dataframe thead th {\n",
              "        text-align: right;\n",
              "    }\n",
              "</style>\n",
              "<table border=\"1\" class=\"dataframe\">\n",
              "  <thead>\n",
              "    <tr style=\"text-align: right;\">\n",
              "      <th></th>\n",
              "      <th>year</th>\n",
              "      <th>make</th>\n",
              "      <th>model</th>\n",
              "      <th>trim</th>\n",
              "      <th>body</th>\n",
              "      <th>transmission</th>\n",
              "      <th>vin</th>\n",
              "      <th>state</th>\n",
              "      <th>condition</th>\n",
              "      <th>odometer</th>\n",
              "      <th>color</th>\n",
              "      <th>interior</th>\n",
              "      <th>seller</th>\n",
              "      <th>mmr</th>\n",
              "      <th>sellingprice</th>\n",
              "      <th>saledate</th>\n",
              "    </tr>\n",
              "  </thead>\n",
              "  <tbody>\n",
              "    <tr>\n",
              "      <th>0</th>\n",
              "      <td>False</td>\n",
              "      <td>False</td>\n",
              "      <td>False</td>\n",
              "      <td>False</td>\n",
              "      <td>False</td>\n",
              "      <td>False</td>\n",
              "      <td>False</td>\n",
              "      <td>False</td>\n",
              "      <td>False</td>\n",
              "      <td>False</td>\n",
              "      <td>False</td>\n",
              "      <td>False</td>\n",
              "      <td>False</td>\n",
              "      <td>False</td>\n",
              "      <td>False</td>\n",
              "      <td>False</td>\n",
              "    </tr>\n",
              "    <tr>\n",
              "      <th>1</th>\n",
              "      <td>False</td>\n",
              "      <td>False</td>\n",
              "      <td>False</td>\n",
              "      <td>False</td>\n",
              "      <td>False</td>\n",
              "      <td>False</td>\n",
              "      <td>False</td>\n",
              "      <td>False</td>\n",
              "      <td>False</td>\n",
              "      <td>False</td>\n",
              "      <td>False</td>\n",
              "      <td>False</td>\n",
              "      <td>False</td>\n",
              "      <td>False</td>\n",
              "      <td>False</td>\n",
              "      <td>False</td>\n",
              "    </tr>\n",
              "    <tr>\n",
              "      <th>2</th>\n",
              "      <td>False</td>\n",
              "      <td>False</td>\n",
              "      <td>False</td>\n",
              "      <td>False</td>\n",
              "      <td>False</td>\n",
              "      <td>False</td>\n",
              "      <td>False</td>\n",
              "      <td>False</td>\n",
              "      <td>False</td>\n",
              "      <td>False</td>\n",
              "      <td>False</td>\n",
              "      <td>False</td>\n",
              "      <td>False</td>\n",
              "      <td>False</td>\n",
              "      <td>False</td>\n",
              "      <td>False</td>\n",
              "    </tr>\n",
              "    <tr>\n",
              "      <th>3</th>\n",
              "      <td>False</td>\n",
              "      <td>False</td>\n",
              "      <td>False</td>\n",
              "      <td>False</td>\n",
              "      <td>False</td>\n",
              "      <td>False</td>\n",
              "      <td>False</td>\n",
              "      <td>False</td>\n",
              "      <td>False</td>\n",
              "      <td>False</td>\n",
              "      <td>False</td>\n",
              "      <td>False</td>\n",
              "      <td>False</td>\n",
              "      <td>False</td>\n",
              "      <td>False</td>\n",
              "      <td>False</td>\n",
              "    </tr>\n",
              "    <tr>\n",
              "      <th>4</th>\n",
              "      <td>False</td>\n",
              "      <td>False</td>\n",
              "      <td>False</td>\n",
              "      <td>False</td>\n",
              "      <td>False</td>\n",
              "      <td>False</td>\n",
              "      <td>False</td>\n",
              "      <td>False</td>\n",
              "      <td>False</td>\n",
              "      <td>False</td>\n",
              "      <td>False</td>\n",
              "      <td>False</td>\n",
              "      <td>False</td>\n",
              "      <td>False</td>\n",
              "      <td>False</td>\n",
              "      <td>False</td>\n",
              "    </tr>\n",
              "    <tr>\n",
              "      <th>...</th>\n",
              "      <td>...</td>\n",
              "      <td>...</td>\n",
              "      <td>...</td>\n",
              "      <td>...</td>\n",
              "      <td>...</td>\n",
              "      <td>...</td>\n",
              "      <td>...</td>\n",
              "      <td>...</td>\n",
              "      <td>...</td>\n",
              "      <td>...</td>\n",
              "      <td>...</td>\n",
              "      <td>...</td>\n",
              "      <td>...</td>\n",
              "      <td>...</td>\n",
              "      <td>...</td>\n",
              "      <td>...</td>\n",
              "    </tr>\n",
              "    <tr>\n",
              "      <th>558832</th>\n",
              "      <td>False</td>\n",
              "      <td>False</td>\n",
              "      <td>False</td>\n",
              "      <td>False</td>\n",
              "      <td>False</td>\n",
              "      <td>False</td>\n",
              "      <td>False</td>\n",
              "      <td>False</td>\n",
              "      <td>False</td>\n",
              "      <td>False</td>\n",
              "      <td>False</td>\n",
              "      <td>False</td>\n",
              "      <td>False</td>\n",
              "      <td>False</td>\n",
              "      <td>False</td>\n",
              "      <td>False</td>\n",
              "    </tr>\n",
              "    <tr>\n",
              "      <th>558833</th>\n",
              "      <td>False</td>\n",
              "      <td>False</td>\n",
              "      <td>False</td>\n",
              "      <td>False</td>\n",
              "      <td>False</td>\n",
              "      <td>False</td>\n",
              "      <td>False</td>\n",
              "      <td>False</td>\n",
              "      <td>False</td>\n",
              "      <td>False</td>\n",
              "      <td>False</td>\n",
              "      <td>False</td>\n",
              "      <td>False</td>\n",
              "      <td>False</td>\n",
              "      <td>False</td>\n",
              "      <td>False</td>\n",
              "    </tr>\n",
              "    <tr>\n",
              "      <th>558834</th>\n",
              "      <td>False</td>\n",
              "      <td>False</td>\n",
              "      <td>False</td>\n",
              "      <td>False</td>\n",
              "      <td>False</td>\n",
              "      <td>False</td>\n",
              "      <td>False</td>\n",
              "      <td>False</td>\n",
              "      <td>False</td>\n",
              "      <td>False</td>\n",
              "      <td>False</td>\n",
              "      <td>False</td>\n",
              "      <td>False</td>\n",
              "      <td>False</td>\n",
              "      <td>False</td>\n",
              "      <td>False</td>\n",
              "    </tr>\n",
              "    <tr>\n",
              "      <th>558835</th>\n",
              "      <td>False</td>\n",
              "      <td>False</td>\n",
              "      <td>False</td>\n",
              "      <td>False</td>\n",
              "      <td>False</td>\n",
              "      <td>False</td>\n",
              "      <td>False</td>\n",
              "      <td>False</td>\n",
              "      <td>False</td>\n",
              "      <td>False</td>\n",
              "      <td>False</td>\n",
              "      <td>False</td>\n",
              "      <td>False</td>\n",
              "      <td>False</td>\n",
              "      <td>False</td>\n",
              "      <td>False</td>\n",
              "    </tr>\n",
              "    <tr>\n",
              "      <th>558836</th>\n",
              "      <td>False</td>\n",
              "      <td>False</td>\n",
              "      <td>False</td>\n",
              "      <td>False</td>\n",
              "      <td>False</td>\n",
              "      <td>False</td>\n",
              "      <td>False</td>\n",
              "      <td>False</td>\n",
              "      <td>False</td>\n",
              "      <td>False</td>\n",
              "      <td>False</td>\n",
              "      <td>False</td>\n",
              "      <td>False</td>\n",
              "      <td>False</td>\n",
              "      <td>False</td>\n",
              "      <td>False</td>\n",
              "    </tr>\n",
              "  </tbody>\n",
              "</table>\n",
              "<p>548536 rows × 16 columns</p>\n",
              "</div>"
            ],
            "text/plain": [
              "         year   make  model   trim   body  transmission    vin  state  \\\n",
              "0       False  False  False  False  False         False  False  False   \n",
              "1       False  False  False  False  False         False  False  False   \n",
              "2       False  False  False  False  False         False  False  False   \n",
              "3       False  False  False  False  False         False  False  False   \n",
              "4       False  False  False  False  False         False  False  False   \n",
              "...       ...    ...    ...    ...    ...           ...    ...    ...   \n",
              "558832  False  False  False  False  False         False  False  False   \n",
              "558833  False  False  False  False  False         False  False  False   \n",
              "558834  False  False  False  False  False         False  False  False   \n",
              "558835  False  False  False  False  False         False  False  False   \n",
              "558836  False  False  False  False  False         False  False  False   \n",
              "\n",
              "        condition  odometer  color  interior  seller    mmr  sellingprice  \\\n",
              "0           False     False  False     False   False  False         False   \n",
              "1           False     False  False     False   False  False         False   \n",
              "2           False     False  False     False   False  False         False   \n",
              "3           False     False  False     False   False  False         False   \n",
              "4           False     False  False     False   False  False         False   \n",
              "...           ...       ...    ...       ...     ...    ...           ...   \n",
              "558832      False     False  False     False   False  False         False   \n",
              "558833      False     False  False     False   False  False         False   \n",
              "558834      False     False  False     False   False  False         False   \n",
              "558835      False     False  False     False   False  False         False   \n",
              "558836      False     False  False     False   False  False         False   \n",
              "\n",
              "        saledate  \n",
              "0          False  \n",
              "1          False  \n",
              "2          False  \n",
              "3          False  \n",
              "4          False  \n",
              "...          ...  \n",
              "558832     False  \n",
              "558833     False  \n",
              "558834     False  \n",
              "558835     False  \n",
              "558836     False  \n",
              "\n",
              "[548536 rows x 16 columns]"
            ]
          },
          "execution_count": 48,
          "metadata": {},
          "output_type": "execute_result"
        }
      ],
      "source": [
        "df.isnull()"
      ]
    },
    {
      "cell_type": "code",
      "execution_count": 49,
      "metadata": {
        "id": "1NUI_di5Hwok"
      },
      "outputs": [],
      "source": [
        "df=df.drop(33441,axis=0)"
      ]
    },
    {
      "cell_type": "code",
      "execution_count": 50,
      "metadata": {
        "id": "T1tkHScrFIs8"
      },
      "outputs": [
        {
          "data": {
            "text/plain": [
              "year              0\n",
              "make              0\n",
              "model             0\n",
              "trim            350\n",
              "body              0\n",
              "transmission      0\n",
              "vin               4\n",
              "state             0\n",
              "condition         0\n",
              "odometer          0\n",
              "color             0\n",
              "interior          0\n",
              "seller            0\n",
              "mmr              38\n",
              "sellingprice     12\n",
              "saledate         12\n",
              "dtype: int64"
            ]
          },
          "execution_count": 50,
          "metadata": {},
          "output_type": "execute_result"
        }
      ],
      "source": [
        "df.isnull().sum()"
      ]
    },
    {
      "cell_type": "code",
      "execution_count": 51,
      "metadata": {
        "id": "_uwiDwBpFR1M"
      },
      "outputs": [
        {
          "name": "stderr",
          "output_type": "stream",
          "text": [
            "C:\\Users\\dell\\AppData\\Roaming\\Python\\Python311\\site-packages\\IPython\\core\\pylabtools.py:170: UserWarning: Glyph 9 (\t) missing from font(s) DejaVu Sans.\n",
            "  fig.canvas.print_figure(bytes_io, **kw)\n"
          ]
        },
        {
          "data": {
            "image/png": "[encoded data removed]",
            "text/plain": [
              "<Figure size 1600x600 with 1 Axes>"
            ]
          },
          "metadata": {},
          "output_type": "display_data"
        },
        {
          "name": "stderr",
          "output_type": "stream",
          "text": [
            "C:\\Users\\dell\\AppData\\Roaming\\Python\\Python311\\site-packages\\IPython\\core\\pylabtools.py:170: UserWarning: Glyph 9 (\t) missing from font(s) DejaVu Sans.\n",
            "  fig.canvas.print_figure(bytes_io, **kw)\n"
          ]
        },
        {
          "data": {
            "image/png": "[encoded data removed]",
            "text/plain": [
              "<Figure size 1600x600 with 1 Axes>"
            ]
          },
          "metadata": {},
          "output_type": "display_data"
        },
        {
          "data": {
            "text/plain": [
              "<Figure size 640x480 with 0 Axes>"
            ]
          },
          "metadata": {},
          "output_type": "display_data"
        }
      ],
      "source": [
        "import matplotlib.pyplot as plt\n",
        "\n",
        "plt.figure(figsize=(16, 6))\n",
        "\n",
        "# First subplot\n",
        "plt.subplot(2, 1, 1)\n",
        "sns.histplot(df['color'], bins=20, kde=True)\n",
        "plt.title('Distribution of color Score')\n",
        "plt.xlabel('\tcolor')\n",
        "plt.ylabel('Frequency')\n",
        "plt.show()\n",
        "\n",
        "# Second subplot\n",
        "plt.figure(figsize=(16, 6))\n",
        "\n",
        "plt.subplot(2, 1, 2)\n",
        "sns.histplot(df['interior'], bins=20, kde=True)\n",
        "plt.title('Distribution of \tinterior Score')\n",
        "plt.xlabel('\tinterior Score')\n",
        "plt.ylabel('Frequency')\n",
        "plt.show()\n",
        "\n",
        "plt.tight_layout()\n",
        "plt.show()"
      ]
    },
    {
      "cell_type": "markdown",
      "metadata": {
        "id": "6YS4RA3p7Q-y"
      },
      "source": [
        "# ***eda report by tdata profilin***"
      ]
    },
    {
      "cell_type": "code",
      "execution_count": 52,
      "metadata": {
        "id": "njc2Te837r1a"
      },
      "outputs": [
        {
          "name": "stdout",
          "output_type": "stream",
          "text": [
            "Requirement already satisfied: ydata-profiling in c:\\users\\dell\\python learner\\.conda\\lib\\site-packages (4.16.1)\n",
            "Requirement already satisfied: scipy<1.16,>=1.4.1 in c:\\users\\dell\\python learner\\.conda\\lib\\site-packages (from ydata-profiling) (1.15.3)\n",
            "Requirement already satisfied: pandas!=1.4.0,<3.0,>1.1 in c:\\users\\dell\\python learner\\.conda\\lib\\site-packages (from ydata-profiling) (2.2.3)\n",
            "Requirement already satisfied: matplotlib<=3.10,>=3.5 in c:\\users\\dell\\python learner\\.conda\\lib\\site-packages (from ydata-profiling) (3.10.0)\n",
            "Requirement already satisfied: pydantic>=2 in c:\\users\\dell\\python learner\\.conda\\lib\\site-packages (from ydata-profiling) (2.11.5)\n",
            "Requirement already satisfied: PyYAML<6.1,>=5.0.0 in c:\\users\\dell\\python learner\\.conda\\lib\\site-packages (from ydata-profiling) (6.0.2)\n",
            "Requirement already satisfied: jinja2<3.2,>=2.11.1 in c:\\users\\dell\\python learner\\.conda\\lib\\site-packages (from ydata-profiling) (3.1.6)\n",
            "Requirement already satisfied: visions<0.8.2,>=0.7.5 in c:\\users\\dell\\python learner\\.conda\\lib\\site-packages (from visions[type_image_path]<0.8.2,>=0.7.5->ydata-profiling) (0.8.1)\n",
            "Requirement already satisfied: numpy<2.2,>=1.16.0 in c:\\users\\dell\\python learner\\.conda\\lib\\site-packages (from ydata-profiling) (2.1.3)\n",
            "Requirement already satisfied: htmlmin==0.1.12 in c:\\users\\dell\\python learner\\.conda\\lib\\site-packages (from ydata-profiling) (0.1.12)\n",
            "Requirement already satisfied: phik<0.13,>=0.11.1 in c:\\users\\dell\\python learner\\.conda\\lib\\site-packages (from ydata-profiling) (0.12.4)\n",
            "Requirement already satisfied: requests<3,>=2.24.0 in c:\\users\\dell\\python learner\\.conda\\lib\\site-packages (from ydata-profiling) (2.32.3)\n",
            "Requirement already satisfied: tqdm<5,>=4.48.2 in c:\\users\\dell\\python learner\\.conda\\lib\\site-packages (from ydata-profiling) (4.67.1)\n",
            "Requirement already satisfied: seaborn<0.14,>=0.10.1 in c:\\users\\dell\\python learner\\.conda\\lib\\site-packages (from ydata-profiling) (0.13.2)\n",
            "Requirement already satisfied: multimethod<2,>=1.4 in c:\\users\\dell\\python learner\\.conda\\lib\\site-packages (from ydata-profiling) (1.12)\n",
            "Requirement already satisfied: statsmodels<1,>=0.13.2 in c:\\users\\dell\\python learner\\.conda\\lib\\site-packages (from ydata-profiling) (0.14.4)\n",
            "Requirement already satisfied: typeguard<5,>=3 in c:\\users\\dell\\python learner\\.conda\\lib\\site-packages (from ydata-profiling) (4.4.2)\n",
            "Requirement already satisfied: imagehash==4.3.1 in c:\\users\\dell\\python learner\\.conda\\lib\\site-packages (from ydata-profiling) (4.3.1)\n",
            "Requirement already satisfied: wordcloud>=1.9.3 in c:\\users\\dell\\python learner\\.conda\\lib\\site-packages (from ydata-profiling) (1.9.4)\n",
            "Requirement already satisfied: dacite>=1.8 in c:\\users\\dell\\python learner\\.conda\\lib\\site-packages (from ydata-profiling) (1.9.2)\n",
            "Requirement already satisfied: numba<=0.61,>=0.56.0 in c:\\users\\dell\\python learner\\.conda\\lib\\site-packages (from ydata-profiling) (0.61.0)\n",
            "Requirement already satisfied: PyWavelets in c:\\users\\dell\\python learner\\.conda\\lib\\site-packages (from imagehash==4.3.1->ydata-profiling) (1.8.0)\n",
            "Requirement already satisfied: pillow in c:\\users\\dell\\python learner\\.conda\\lib\\site-packages (from imagehash==4.3.1->ydata-profiling) (11.2.1)\n",
            "Requirement already satisfied: MarkupSafe>=2.0 in c:\\users\\dell\\python learner\\.conda\\lib\\site-packages (from jinja2<3.2,>=2.11.1->ydata-profiling) (3.0.2)\n",
            "Requirement already satisfied: contourpy>=1.0.1 in c:\\users\\dell\\python learner\\.conda\\lib\\site-packages (from matplotlib<=3.10,>=3.5->ydata-profiling) (1.3.2)\n",
            "Requirement already satisfied: cycler>=0.10 in c:\\users\\dell\\python learner\\.conda\\lib\\site-packages (from matplotlib<=3.10,>=3.5->ydata-profiling) (0.12.1)\n",
            "Requirement already satisfied: fonttools>=4.22.0 in c:\\users\\dell\\python learner\\.conda\\lib\\site-packages (from matplotlib<=3.10,>=3.5->ydata-profiling) (4.58.1)\n",
            "Requirement already satisfied: kiwisolver>=1.3.1 in c:\\users\\dell\\python learner\\.conda\\lib\\site-packages (from matplotlib<=3.10,>=3.5->ydata-profiling) (1.4.8)\n",
            "Requirement already satisfied: packaging>=20.0 in c:\\users\\dell\\appdata\\roaming\\python\\python311\\site-packages (from matplotlib<=3.10,>=3.5->ydata-profiling) (25.0)\n",
            "Requirement already satisfied: pyparsing>=2.3.1 in c:\\users\\dell\\python learner\\.conda\\lib\\site-packages (from matplotlib<=3.10,>=3.5->ydata-profiling) (3.2.3)\n",
            "Requirement already satisfied: python-dateutil>=2.7 in c:\\users\\dell\\appdata\\roaming\\python\\python311\\site-packages (from matplotlib<=3.10,>=3.5->ydata-profiling) (2.9.0.post0)\n",
            "Requirement already satisfied: llvmlite<0.45,>=0.44.0dev0 in c:\\users\\dell\\python learner\\.conda\\lib\\site-packages (from numba<=0.61,>=0.56.0->ydata-profiling) (0.44.0)\n",
            "Requirement already satisfied: pytz>=2020.1 in c:\\users\\dell\\python learner\\.conda\\lib\\site-packages (from pandas!=1.4.0,<3.0,>1.1->ydata-profiling) (2025.2)\n",
            "Requirement already satisfied: tzdata>=2022.7 in c:\\users\\dell\\python learner\\.conda\\lib\\site-packages (from pandas!=1.4.0,<3.0,>1.1->ydata-profiling) (2025.2)\n",
            "Requirement already satisfied: joblib>=0.14.1 in c:\\users\\dell\\python learner\\.conda\\lib\\site-packages (from phik<0.13,>=0.11.1->ydata-profiling) (1.5.1)\n",
            "Requirement already satisfied: charset-normalizer<4,>=2 in c:\\users\\dell\\python learner\\.conda\\lib\\site-packages (from requests<3,>=2.24.0->ydata-profiling) (3.4.2)\n",
            "Requirement already satisfied: idna<4,>=2.5 in c:\\users\\dell\\python learner\\.conda\\lib\\site-packages (from requests<3,>=2.24.0->ydata-profiling) (3.10)\n",
            "Requirement already satisfied: urllib3<3,>=1.21.1 in c:\\users\\dell\\python learner\\.conda\\lib\\site-packages (from requests<3,>=2.24.0->ydata-profiling) (2.4.0)\n",
            "Requirement already satisfied: certifi>=2017.4.17 in c:\\users\\dell\\python learner\\.conda\\lib\\site-packages (from requests<3,>=2.24.0->ydata-profiling) (2025.4.26)\n",
            "Requirement already satisfied: patsy>=0.5.6 in c:\\users\\dell\\python learner\\.conda\\lib\\site-packages (from statsmodels<1,>=0.13.2->ydata-profiling) (1.0.1)\n",
            "Requirement already satisfied: colorama in c:\\users\\dell\\appdata\\roaming\\python\\python311\\site-packages (from tqdm<5,>=4.48.2->ydata-profiling) (0.4.6)\n",
            "Requirement already satisfied: typing_extensions>=4.10.0 in c:\\users\\dell\\appdata\\roaming\\python\\python311\\site-packages (from typeguard<5,>=3->ydata-profiling) (4.13.2)\n",
            "Requirement already satisfied: attrs>=19.3.0 in c:\\users\\dell\\python learner\\.conda\\lib\\site-packages (from visions<0.8.2,>=0.7.5->visions[type_image_path]<0.8.2,>=0.7.5->ydata-profiling) (25.3.0)\n",
            "Requirement already satisfied: networkx>=2.4 in c:\\users\\dell\\python learner\\.conda\\lib\\site-packages (from visions<0.8.2,>=0.7.5->visions[type_image_path]<0.8.2,>=0.7.5->ydata-profiling) (3.5)\n",
            "Requirement already satisfied: puremagic in c:\\users\\dell\\python learner\\.conda\\lib\\site-packages (from visions<0.8.2,>=0.7.5->visions[type_image_path]<0.8.2,>=0.7.5->ydata-profiling) (1.29)\n",
            "Requirement already satisfied: annotated-types>=0.6.0 in c:\\users\\dell\\python learner\\.conda\\lib\\site-packages (from pydantic>=2->ydata-profiling) (0.7.0)\n",
            "Requirement already satisfied: pydantic-core==2.33.2 in c:\\users\\dell\\python learner\\.conda\\lib\\site-packages (from pydantic>=2->ydata-profiling) (2.33.2)\n",
            "Requirement already satisfied: typing-inspection>=0.4.0 in c:\\users\\dell\\python learner\\.conda\\lib\\site-packages (from pydantic>=2->ydata-profiling) (0.4.1)\n",
            "Requirement already satisfied: six>=1.5 in c:\\users\\dell\\appdata\\roaming\\python\\python311\\site-packages (from python-dateutil>=2.7->matplotlib<=3.10,>=3.5->ydata-profiling) (1.17.0)\n"
          ]
        }
      ],
      "source": [
        "!pip install ydata-profiling\n"
      ]
    },
    {
      "cell_type": "code",
      "execution_count": 53,
      "metadata": {
        "id": "uLGlnM7C7GY_"
      },
      "outputs": [
        {
          "ename": "KeyboardInterrupt",
          "evalue": "",
          "output_type": "error",
          "traceback": [
            "\u001b[31m---------------------------------------------------------------------------\u001b[39m",
            "\u001b[31mKeyboardInterrupt\u001b[39m                         Traceback (most recent call last)",
            "\u001b[36mCell\u001b[39m\u001b[36m \u001b[39m\u001b[32mIn[53]\u001b[39m\u001b[32m, line 1\u001b[39m\n\u001b[32m----> \u001b[39m\u001b[32m1\u001b[39m \u001b[38;5;28;01mfrom\u001b[39;00m\u001b[38;5;250m \u001b[39m\u001b[34;01mydata_profiling\u001b[39;00m\u001b[38;5;250m \u001b[39m\u001b[38;5;28;01mimport\u001b[39;00m ProfileReport\n\u001b[32m      2\u001b[39m profile = ProfileReport(df, title=\u001b[33m\"\u001b[39m\u001b[33mMy Data Report\u001b[39m\u001b[33m\"\u001b[39m, explorative=\u001b[38;5;28;01mTrue\u001b[39;00m)\n\u001b[32m      3\u001b[39m profile.to_file(\u001b[33m\"\u001b[39m\u001b[33mtitanic_report.html\u001b[39m\u001b[33m\"\u001b[39m)\n",
            "\u001b[36mFile \u001b[39m\u001b[32mc:\\Users\\dell\\python learner\\.conda\\Lib\\site-packages\\ydata_profiling\\__init__.py:10\u001b[39m\n\u001b[32m      6\u001b[39m \u001b[38;5;28;01mimport\u001b[39;00m\u001b[38;5;250m \u001b[39m\u001b[34;01mwarnings\u001b[39;00m  \u001b[38;5;66;03m# isort:skip # noqa\u001b[39;00m\n\u001b[32m      8\u001b[39m \u001b[38;5;28;01mimport\u001b[39;00m\u001b[38;5;250m \u001b[39m\u001b[34;01mimportlib\u001b[39;00m\u001b[34;01m.\u001b[39;00m\u001b[34;01mutil\u001b[39;00m  \u001b[38;5;66;03m# isort:skip # noqa\u001b[39;00m\n\u001b[32m---> \u001b[39m\u001b[32m10\u001b[39m \u001b[38;5;28;01mfrom\u001b[39;00m\u001b[38;5;250m \u001b[39m\u001b[34;01mydata_profiling\u001b[39;00m\u001b[34;01m.\u001b[39;00m\u001b[34;01mcompare_reports\u001b[39;00m\u001b[38;5;250m \u001b[39m\u001b[38;5;28;01mimport\u001b[39;00m compare  \u001b[38;5;66;03m# isort:skip # noqa\u001b[39;00m\n\u001b[32m     11\u001b[39m \u001b[38;5;28;01mfrom\u001b[39;00m\u001b[38;5;250m \u001b[39m\u001b[34;01mydata_profiling\u001b[39;00m\u001b[34;01m.\u001b[39;00m\u001b[34;01mcontroller\u001b[39;00m\u001b[38;5;250m \u001b[39m\u001b[38;5;28;01mimport\u001b[39;00m pandas_decorator  \u001b[38;5;66;03m# isort:skip # noqa\u001b[39;00m\n\u001b[32m     12\u001b[39m \u001b[38;5;28;01mfrom\u001b[39;00m\u001b[38;5;250m \u001b[39m\u001b[34;01mydata_profiling\u001b[39;00m\u001b[34;01m.\u001b[39;00m\u001b[34;01mprofile_report\u001b[39;00m\u001b[38;5;250m \u001b[39m\u001b[38;5;28;01mimport\u001b[39;00m ProfileReport  \u001b[38;5;66;03m# isort:skip # noqa\u001b[39;00m\n",
            "\u001b[36mFile \u001b[39m\u001b[32mc:\\Users\\dell\\python learner\\.conda\\Lib\\site-packages\\ydata_profiling\\compare_reports.py:12\u001b[39m\n\u001b[32m     10\u001b[39m \u001b[38;5;28;01mfrom\u001b[39;00m\u001b[38;5;250m \u001b[39m\u001b[34;01mydata_profiling\u001b[39;00m\u001b[34;01m.\u001b[39;00m\u001b[34;01mmodel\u001b[39;00m\u001b[38;5;250m \u001b[39m\u001b[38;5;28;01mimport\u001b[39;00m BaseDescription\n\u001b[32m     11\u001b[39m \u001b[38;5;28;01mfrom\u001b[39;00m\u001b[38;5;250m \u001b[39m\u001b[34;01mydata_profiling\u001b[39;00m\u001b[34;01m.\u001b[39;00m\u001b[34;01mmodel\u001b[39;00m\u001b[34;01m.\u001b[39;00m\u001b[34;01malerts\u001b[39;00m\u001b[38;5;250m \u001b[39m\u001b[38;5;28;01mimport\u001b[39;00m Alert\n\u001b[32m---> \u001b[39m\u001b[32m12\u001b[39m \u001b[38;5;28;01mfrom\u001b[39;00m\u001b[38;5;250m \u001b[39m\u001b[34;01mydata_profiling\u001b[39;00m\u001b[34;01m.\u001b[39;00m\u001b[34;01mprofile_report\u001b[39;00m\u001b[38;5;250m \u001b[39m\u001b[38;5;28;01mimport\u001b[39;00m ProfileReport\n\u001b[32m     15\u001b[39m \u001b[38;5;28;01mdef\u001b[39;00m\u001b[38;5;250m \u001b[39m\u001b[34m_should_wrap\u001b[39m(v1: Any, v2: Any) -> \u001b[38;5;28mbool\u001b[39m:\n\u001b[32m     16\u001b[39m     \u001b[38;5;28;01mif\u001b[39;00m \u001b[38;5;28misinstance\u001b[39m(v1, (\u001b[38;5;28mlist\u001b[39m, \u001b[38;5;28mdict\u001b[39m)):\n",
            "\u001b[36mFile \u001b[39m\u001b[32mc:\\Users\\dell\\python learner\\.conda\\Lib\\site-packages\\ydata_profiling\\profile_report.py:26\u001b[39m\n\u001b[32m     24\u001b[39m \u001b[38;5;28;01mfrom\u001b[39;00m\u001b[38;5;250m \u001b[39m\u001b[34;01mtqdm\u001b[39;00m\u001b[34;01m.\u001b[39;00m\u001b[34;01mauto\u001b[39;00m\u001b[38;5;250m \u001b[39m\u001b[38;5;28;01mimport\u001b[39;00m tqdm\n\u001b[32m     25\u001b[39m \u001b[38;5;28;01mfrom\u001b[39;00m\u001b[38;5;250m \u001b[39m\u001b[34;01mtypeguard\u001b[39;00m\u001b[38;5;250m \u001b[39m\u001b[38;5;28;01mimport\u001b[39;00m typechecked\n\u001b[32m---> \u001b[39m\u001b[32m26\u001b[39m \u001b[38;5;28;01mfrom\u001b[39;00m\u001b[38;5;250m \u001b[39m\u001b[34;01mvisions\u001b[39;00m\u001b[38;5;250m \u001b[39m\u001b[38;5;28;01mimport\u001b[39;00m VisionsTypeset\n\u001b[32m     28\u001b[39m \u001b[38;5;28;01mfrom\u001b[39;00m\u001b[38;5;250m \u001b[39m\u001b[34;01mydata_profiling\u001b[39;00m\u001b[34;01m.\u001b[39;00m\u001b[34;01mconfig\u001b[39;00m\u001b[38;5;250m \u001b[39m\u001b[38;5;28;01mimport\u001b[39;00m Config, Settings, SparkSettings\n\u001b[32m     29\u001b[39m \u001b[38;5;28;01mfrom\u001b[39;00m\u001b[38;5;250m \u001b[39m\u001b[34;01mydata_profiling\u001b[39;00m\u001b[34;01m.\u001b[39;00m\u001b[34;01mexpectations_report\u001b[39;00m\u001b[38;5;250m \u001b[39m\u001b[38;5;28;01mimport\u001b[39;00m ExpectationsReport\n",
            "\u001b[36mFile \u001b[39m\u001b[32mc:\\Users\\dell\\python learner\\.conda\\Lib\\site-packages\\visions\\__init__.py:3\u001b[39m\n\u001b[32m      1\u001b[39m \u001b[33;03m\"\"\"Core functionality\"\"\"\u001b[39;00m\n\u001b[32m----> \u001b[39m\u001b[32m3\u001b[39m \u001b[38;5;28;01mfrom\u001b[39;00m\u001b[38;5;250m \u001b[39m\u001b[34;01mvisions\u001b[39;00m\u001b[38;5;250m \u001b[39m\u001b[38;5;28;01mimport\u001b[39;00m test, types, typesets, utils\n\u001b[32m      4\u001b[39m \u001b[38;5;28;01mfrom\u001b[39;00m\u001b[38;5;250m \u001b[39m\u001b[34;01mvisions\u001b[39;00m\u001b[34;01m.\u001b[39;00m\u001b[34;01mbackends\u001b[39;00m\u001b[38;5;250m \u001b[39m\u001b[38;5;28;01mimport\u001b[39;00m *\n\u001b[32m      5\u001b[39m \u001b[38;5;28;01mfrom\u001b[39;00m\u001b[38;5;250m \u001b[39m\u001b[34;01mvisions\u001b[39;00m\u001b[34;01m.\u001b[39;00m\u001b[34;01mdeclarative\u001b[39;00m\u001b[38;5;250m \u001b[39m\u001b[38;5;28;01mimport\u001b[39;00m create_type\n",
            "\u001b[36mFile \u001b[39m\u001b[32mc:\\Users\\dell\\python learner\\.conda\\Lib\\site-packages\\visions\\typesets\\__init__.py:1\u001b[39m\n\u001b[32m----> \u001b[39m\u001b[32m1\u001b[39m \u001b[38;5;28;01mfrom\u001b[39;00m\u001b[38;5;250m \u001b[39m\u001b[34;01mvisions\u001b[39;00m\u001b[34;01m.\u001b[39;00m\u001b[34;01mtypesets\u001b[39;00m\u001b[34;01m.\u001b[39;00m\u001b[34;01mcomplete_set\u001b[39;00m\u001b[38;5;250m \u001b[39m\u001b[38;5;28;01mimport\u001b[39;00m CompleteSet\n\u001b[32m      2\u001b[39m \u001b[38;5;28;01mfrom\u001b[39;00m\u001b[38;5;250m \u001b[39m\u001b[34;01mvisions\u001b[39;00m\u001b[34;01m.\u001b[39;00m\u001b[34;01mtypesets\u001b[39;00m\u001b[34;01m.\u001b[39;00m\u001b[34;01mgeometry_set\u001b[39;00m\u001b[38;5;250m \u001b[39m\u001b[38;5;28;01mimport\u001b[39;00m GeometrySet\n\u001b[32m      3\u001b[39m \u001b[38;5;28;01mfrom\u001b[39;00m\u001b[38;5;250m \u001b[39m\u001b[34;01mvisions\u001b[39;00m\u001b[34;01m.\u001b[39;00m\u001b[34;01mtypesets\u001b[39;00m\u001b[34;01m.\u001b[39;00m\u001b[34;01mstandard_set\u001b[39;00m\u001b[38;5;250m \u001b[39m\u001b[38;5;28;01mimport\u001b[39;00m StandardSet\n",
            "\u001b[36mFile \u001b[39m\u001b[32mc:\\Users\\dell\\python learner\\.conda\\Lib\\site-packages\\visions\\typesets\\complete_set.py:25\u001b[39m\n\u001b[32m      1\u001b[39m \u001b[38;5;28;01mfrom\u001b[39;00m\u001b[38;5;250m \u001b[39m\u001b[34;01mvisions\u001b[39;00m\u001b[34;01m.\u001b[39;00m\u001b[34;01mtypes\u001b[39;00m\u001b[38;5;250m \u001b[39m\u001b[38;5;28;01mimport\u001b[39;00m (\n\u001b[32m      2\u001b[39m     URL,\n\u001b[32m      3\u001b[39m     UUID,\n\u001b[32m   (...)\u001b[39m\u001b[32m     23\u001b[39m     TimeDelta,\n\u001b[32m     24\u001b[39m )\n\u001b[32m---> \u001b[39m\u001b[32m25\u001b[39m \u001b[38;5;28;01mfrom\u001b[39;00m\u001b[38;5;250m \u001b[39m\u001b[34;01mvisions\u001b[39;00m\u001b[34;01m.\u001b[39;00m\u001b[34;01mtypesets\u001b[39;00m\u001b[34;01m.\u001b[39;00m\u001b[34;01mtypeset\u001b[39;00m\u001b[38;5;250m \u001b[39m\u001b[38;5;28;01mimport\u001b[39;00m VisionsTypeset\n\u001b[32m     28\u001b[39m \u001b[38;5;28;01mclass\u001b[39;00m\u001b[38;5;250m \u001b[39m\u001b[34;01mCompleteSet\u001b[39;00m(VisionsTypeset):\n\u001b[32m     29\u001b[39m \u001b[38;5;250m    \u001b[39m\u001b[33;03m\"\"\"Complete visions typeset with all supported types\u001b[39;00m\n\u001b[32m     30\u001b[39m \n\u001b[32m     31\u001b[39m \u001b[33;03m    Includes support for the following types:\u001b[39;00m\n\u001b[32m   (...)\u001b[39m\u001b[32m     54\u001b[39m \n\u001b[32m     55\u001b[39m \u001b[33;03m    \"\"\"\u001b[39;00m\n",
            "\u001b[36mFile \u001b[39m\u001b[32mc:\\Users\\dell\\python learner\\.conda\\Lib\\site-packages\\visions\\typesets\\typeset.py:18\u001b[39m\n\u001b[32m      3\u001b[39m \u001b[38;5;28;01mfrom\u001b[39;00m\u001b[38;5;250m \u001b[39m\u001b[34;01mpathlib\u001b[39;00m\u001b[38;5;250m \u001b[39m\u001b[38;5;28;01mimport\u001b[39;00m Path\n\u001b[32m      4\u001b[39m \u001b[38;5;28;01mfrom\u001b[39;00m\u001b[38;5;250m \u001b[39m\u001b[34;01mtyping\u001b[39;00m\u001b[38;5;250m \u001b[39m\u001b[38;5;28;01mimport\u001b[39;00m (\n\u001b[32m      5\u001b[39m     Any,\n\u001b[32m      6\u001b[39m     Dict,\n\u001b[32m   (...)\u001b[39m\u001b[32m     15\u001b[39m     Union,\n\u001b[32m     16\u001b[39m )\n\u001b[32m---> \u001b[39m\u001b[32m18\u001b[39m \u001b[38;5;28;01mimport\u001b[39;00m\u001b[38;5;250m \u001b[39m\u001b[34;01mnetworkx\u001b[39;00m\u001b[38;5;250m \u001b[39m\u001b[38;5;28;01mas\u001b[39;00m\u001b[38;5;250m \u001b[39m\u001b[34;01mnx\u001b[39;00m\n\u001b[32m     19\u001b[39m \u001b[38;5;28;01mimport\u001b[39;00m\u001b[38;5;250m \u001b[39m\u001b[34;01mpandas\u001b[39;00m\u001b[38;5;250m \u001b[39m\u001b[38;5;28;01mas\u001b[39;00m\u001b[38;5;250m \u001b[39m\u001b[34;01mpd\u001b[39;00m\n\u001b[32m     21\u001b[39m \u001b[38;5;28;01mfrom\u001b[39;00m\u001b[38;5;250m \u001b[39m\u001b[34;01mvisions\u001b[39;00m\u001b[34;01m.\u001b[39;00m\u001b[34;01mtypes\u001b[39;00m\u001b[34;01m.\u001b[39;00m\u001b[34;01mgeneric\u001b[39;00m\u001b[38;5;250m \u001b[39m\u001b[38;5;28;01mimport\u001b[39;00m Generic\n",
            "\u001b[36mFile \u001b[39m\u001b[32mc:\\Users\\dell\\python learner\\.conda\\Lib\\site-packages\\networkx\\__init__.py:46\u001b[39m\n\u001b[32m     43\u001b[39m \u001b[38;5;28;01mfrom\u001b[39;00m\u001b[38;5;250m \u001b[39m\u001b[34;01mnetworkx\u001b[39;00m\u001b[34;01m.\u001b[39;00m\u001b[34;01mreadwrite\u001b[39;00m\u001b[38;5;250m \u001b[39m\u001b[38;5;28;01mimport\u001b[39;00m *\n\u001b[32m     45\u001b[39m \u001b[38;5;66;03m# Need to test with SciPy, when available\u001b[39;00m\n\u001b[32m---> \u001b[39m\u001b[32m46\u001b[39m \u001b[38;5;28;01mfrom\u001b[39;00m\u001b[38;5;250m \u001b[39m\u001b[34;01mnetworkx\u001b[39;00m\u001b[38;5;250m \u001b[39m\u001b[38;5;28;01mimport\u001b[39;00m algorithms\n\u001b[32m     47\u001b[39m \u001b[38;5;28;01mfrom\u001b[39;00m\u001b[38;5;250m \u001b[39m\u001b[34;01mnetworkx\u001b[39;00m\u001b[34;01m.\u001b[39;00m\u001b[34;01malgorithms\u001b[39;00m\u001b[38;5;250m \u001b[39m\u001b[38;5;28;01mimport\u001b[39;00m *\n\u001b[32m     49\u001b[39m \u001b[38;5;28;01mfrom\u001b[39;00m\u001b[38;5;250m \u001b[39m\u001b[34;01mnetworkx\u001b[39;00m\u001b[38;5;250m \u001b[39m\u001b[38;5;28;01mimport\u001b[39;00m linalg\n",
            "\u001b[36mFile \u001b[39m\u001b[32mc:\\Users\\dell\\python learner\\.conda\\Lib\\site-packages\\networkx\\algorithms\\__init__.py:75\u001b[39m\n\u001b[32m     73\u001b[39m \u001b[38;5;28;01mfrom\u001b[39;00m\u001b[38;5;250m \u001b[39m\u001b[34;01mnetworkx\u001b[39;00m\u001b[34;01m.\u001b[39;00m\u001b[34;01malgorithms\u001b[39;00m\u001b[38;5;250m \u001b[39m\u001b[38;5;28;01mimport\u001b[39;00m components\n\u001b[32m     74\u001b[39m \u001b[38;5;28;01mfrom\u001b[39;00m\u001b[38;5;250m \u001b[39m\u001b[34;01mnetworkx\u001b[39;00m\u001b[34;01m.\u001b[39;00m\u001b[34;01malgorithms\u001b[39;00m\u001b[38;5;250m \u001b[39m\u001b[38;5;28;01mimport\u001b[39;00m connectivity\n\u001b[32m---> \u001b[39m\u001b[32m75\u001b[39m \u001b[38;5;28;01mfrom\u001b[39;00m\u001b[38;5;250m \u001b[39m\u001b[34;01mnetworkx\u001b[39;00m\u001b[34;01m.\u001b[39;00m\u001b[34;01malgorithms\u001b[39;00m\u001b[38;5;250m \u001b[39m\u001b[38;5;28;01mimport\u001b[39;00m community\n\u001b[32m     76\u001b[39m \u001b[38;5;28;01mfrom\u001b[39;00m\u001b[38;5;250m \u001b[39m\u001b[34;01mnetworkx\u001b[39;00m\u001b[34;01m.\u001b[39;00m\u001b[34;01malgorithms\u001b[39;00m\u001b[38;5;250m \u001b[39m\u001b[38;5;28;01mimport\u001b[39;00m coloring\n\u001b[32m     77\u001b[39m \u001b[38;5;28;01mfrom\u001b[39;00m\u001b[38;5;250m \u001b[39m\u001b[34;01mnetworkx\u001b[39;00m\u001b[34;01m.\u001b[39;00m\u001b[34;01malgorithms\u001b[39;00m\u001b[38;5;250m \u001b[39m\u001b[38;5;28;01mimport\u001b[39;00m flow\n",
            "\u001b[36mFile \u001b[39m\u001b[32mc:\\Users\\dell\\python learner\\.conda\\Lib\\site-packages\\networkx\\algorithms\\community\\__init__.py:28\u001b[39m\n\u001b[32m     26\u001b[39m \u001b[38;5;28;01mfrom\u001b[39;00m\u001b[38;5;250m \u001b[39m\u001b[34;01mnetworkx\u001b[39;00m\u001b[34;01m.\u001b[39;00m\u001b[34;01malgorithms\u001b[39;00m\u001b[34;01m.\u001b[39;00m\u001b[34;01mcommunity\u001b[39;00m\u001b[34;01m.\u001b[39;00m\u001b[34;01mlouvain\u001b[39;00m\u001b[38;5;250m \u001b[39m\u001b[38;5;28;01mimport\u001b[39;00m *\n\u001b[32m     27\u001b[39m \u001b[38;5;28;01mfrom\u001b[39;00m\u001b[38;5;250m \u001b[39m\u001b[34;01mnetworkx\u001b[39;00m\u001b[34;01m.\u001b[39;00m\u001b[34;01malgorithms\u001b[39;00m\u001b[34;01m.\u001b[39;00m\u001b[34;01mcommunity\u001b[39;00m\u001b[34;01m.\u001b[39;00m\u001b[34;01mleiden\u001b[39;00m\u001b[38;5;250m \u001b[39m\u001b[38;5;28;01mimport\u001b[39;00m *\n\u001b[32m---> \u001b[39m\u001b[32m28\u001b[39m \u001b[38;5;28;01mfrom\u001b[39;00m\u001b[38;5;250m \u001b[39m\u001b[34;01mnetworkx\u001b[39;00m\u001b[34;01m.\u001b[39;00m\u001b[34;01malgorithms\u001b[39;00m\u001b[34;01m.\u001b[39;00m\u001b[34;01mcommunity\u001b[39;00m\u001b[34;01m.\u001b[39;00m\u001b[34;01mlocal\u001b[39;00m\u001b[38;5;250m \u001b[39m\u001b[38;5;28;01mimport\u001b[39;00m *\n",
            "\u001b[36mFile \u001b[39m\u001b[32m<frozen importlib._bootstrap>:1176\u001b[39m, in \u001b[36m_find_and_load\u001b[39m\u001b[34m(name, import_)\u001b[39m\n",
            "\u001b[36mFile \u001b[39m\u001b[32m<frozen importlib._bootstrap>:1147\u001b[39m, in \u001b[36m_find_and_load_unlocked\u001b[39m\u001b[34m(name, import_)\u001b[39m\n",
            "\u001b[36mFile \u001b[39m\u001b[32m<frozen importlib._bootstrap>:690\u001b[39m, in \u001b[36m_load_unlocked\u001b[39m\u001b[34m(spec)\u001b[39m\n",
            "\u001b[36mFile \u001b[39m\u001b[32m<frozen importlib._bootstrap_external>:936\u001b[39m, in \u001b[36mexec_module\u001b[39m\u001b[34m(self, module)\u001b[39m\n",
            "\u001b[36mFile \u001b[39m\u001b[32m<frozen importlib._bootstrap_external>:1032\u001b[39m, in \u001b[36mget_code\u001b[39m\u001b[34m(self, fullname)\u001b[39m\n",
            "\u001b[36mFile \u001b[39m\u001b[32m<frozen importlib._bootstrap_external>:1131\u001b[39m, in \u001b[36mget_data\u001b[39m\u001b[34m(self, path)\u001b[39m\n",
            "\u001b[31mKeyboardInterrupt\u001b[39m: "
          ]
        }
      ],
      "source": [
        "from ydata_profiling import ProfileReport\n",
        "profile = ProfileReport(df, title=\"My Data Report\", explorative=True)\n",
        "profile.to_file(\"titanic_report.html\")\n",
        "\n"
      ]
    },
    {
      "cell_type": "markdown",
      "metadata": {
        "id": "b9eCu6xoIa7R"
      },
      "source": [
        "# ***trim column***\n",
        "\n",
        "\n",
        "\n"
      ]
    },
    {
      "cell_type": "code",
      "execution_count": 54,
      "metadata": {
        "id": "3tmpvvmIIuKk"
      },
      "outputs": [
        {
          "data": {
            "text/plain": [
              "1963"
            ]
          },
          "execution_count": 54,
          "metadata": {},
          "output_type": "execute_result"
        }
      ],
      "source": [
        "df['trim'].nunique()"
      ]
    },
    {
      "cell_type": "code",
      "execution_count": 55,
      "metadata": {
        "id": "dUv04cMlAS5W"
      },
      "outputs": [],
      "source": [
        "df['trim'] = (\n",
        "    df.groupby('model')['trim']\n",
        "      .transform(lambda x: x.fillna(x.mode()[0]) if not x.mode().empty else x)\n",
        ")\n"
      ]
    },
    {
      "cell_type": "code",
      "execution_count": 56,
      "metadata": {
        "id": "KluY5lVEAfKV"
      },
      "outputs": [
        {
          "data": {
            "text/plain": [
              "np.int64(113)"
            ]
          },
          "execution_count": 56,
          "metadata": {},
          "output_type": "execute_result"
        }
      ],
      "source": [
        "df['trim'].isnull().sum()"
      ]
    },
    {
      "cell_type": "code",
      "execution_count": 57,
      "metadata": {
        "id": "LbXqk4k3BLST"
      },
      "outputs": [],
      "source": [
        "df['trim'] = (\n",
        "    df.groupby('make')['trim']\n",
        "      .transform(lambda x: x.fillna(x.mode()[0]) if not x.mode().empty else x)\n",
        ")"
      ]
    },
    {
      "cell_type": "code",
      "execution_count": 58,
      "metadata": {
        "id": "n78zeX1mBPrR"
      },
      "outputs": [
        {
          "data": {
            "text/plain": [
              "np.int64(0)"
            ]
          },
          "execution_count": 58,
          "metadata": {},
          "output_type": "execute_result"
        }
      ],
      "source": [
        "df['trim'].isnull().sum()"
      ]
    },
    {
      "cell_type": "code",
      "execution_count": 67,
      "metadata": {},
      "outputs": [
        {
          "data": {
            "text/html": [
              "<div>\n",
              "<style scoped>\n",
              "    .dataframe tbody tr th:only-of-type {\n",
              "        vertical-align: middle;\n",
              "    }\n",
              "\n",
              "    .dataframe tbody tr th {\n",
              "        vertical-align: top;\n",
              "    }\n",
              "\n",
              "    .dataframe thead th {\n",
              "        text-align: right;\n",
              "    }\n",
              "</style>\n",
              "<table border=\"1\" class=\"dataframe\">\n",
              "  <thead>\n",
              "    <tr style=\"text-align: right;\">\n",
              "      <th></th>\n",
              "      <th>year</th>\n",
              "      <th>make</th>\n",
              "      <th>model</th>\n",
              "      <th>trim</th>\n",
              "      <th>body</th>\n",
              "      <th>transmission</th>\n",
              "      <th>vin</th>\n",
              "      <th>state</th>\n",
              "      <th>condition</th>\n",
              "      <th>odometer</th>\n",
              "      <th>color</th>\n",
              "      <th>interior</th>\n",
              "      <th>seller</th>\n",
              "      <th>mmr</th>\n",
              "      <th>sellingprice</th>\n",
              "      <th>saledate</th>\n",
              "    </tr>\n",
              "  </thead>\n",
              "  <tbody>\n",
              "    <tr>\n",
              "      <th>380056</th>\n",
              "      <td>2013</td>\n",
              "      <td>Dodge</td>\n",
              "      <td>grand caravan</td>\n",
              "      <td>SE</td>\n",
              "      <td>minivan</td>\n",
              "      <td>automatic</td>\n",
              "      <td>2c4rdgbg7dr609130</td>\n",
              "      <td>fl</td>\n",
              "      <td>36.0</td>\n",
              "      <td>89694.0</td>\n",
              "      <td>black</td>\n",
              "      <td>black</td>\n",
              "      <td>northwestern chrys/j/d/ge</td>\n",
              "      <td>9500.0</td>\n",
              "      <td>9500.0</td>\n",
              "      <td>Wed Mar 04 2015 01:00:00 GMT-0800 (PST)</td>\n",
              "    </tr>\n",
              "    <tr>\n",
              "      <th>56806</th>\n",
              "      <td>2014</td>\n",
              "      <td>Chevrolet</td>\n",
              "      <td>impala limited</td>\n",
              "      <td>LT Fleet</td>\n",
              "      <td>sedan</td>\n",
              "      <td>automatic</td>\n",
              "      <td>2g1wb5e32e1134663</td>\n",
              "      <td>fl</td>\n",
              "      <td>4.0</td>\n",
              "      <td>23142.0</td>\n",
              "      <td>black</td>\n",
              "      <td>gray</td>\n",
              "      <td>gm remarketing</td>\n",
              "      <td>13000.0</td>\n",
              "      <td>12800.0</td>\n",
              "      <td>Tue Jan 27 2015 01:30:00 GMT-0800 (PST)</td>\n",
              "    </tr>\n",
              "    <tr>\n",
              "      <th>232287</th>\n",
              "      <td>2005</td>\n",
              "      <td>Saturn</td>\n",
              "      <td>ion</td>\n",
              "      <td>2</td>\n",
              "      <td>sedan</td>\n",
              "      <td>automatic</td>\n",
              "      <td>1g8aj52f35z142372</td>\n",
              "      <td>nc</td>\n",
              "      <td>21.0</td>\n",
              "      <td>146829.0</td>\n",
              "      <td>black</td>\n",
              "      <td>gray</td>\n",
              "      <td>dt credit corporation</td>\n",
              "      <td>1400.0</td>\n",
              "      <td>1600.0</td>\n",
              "      <td>Tue Feb 03 2015 01:30:00 GMT-0800 (PST)</td>\n",
              "    </tr>\n",
              "    <tr>\n",
              "      <th>30023</th>\n",
              "      <td>1996</td>\n",
              "      <td>Mercury</td>\n",
              "      <td>sable</td>\n",
              "      <td>LS</td>\n",
              "      <td>sedan</td>\n",
              "      <td>automatic</td>\n",
              "      <td>1melm53s2ta635102</td>\n",
              "      <td>va</td>\n",
              "      <td>1.0</td>\n",
              "      <td>71806.0</td>\n",
              "      <td>black</td>\n",
              "      <td>—</td>\n",
              "      <td>c l hyman auto wholesale of virginia inc</td>\n",
              "      <td>525.0</td>\n",
              "      <td>900.0</td>\n",
              "      <td>Thu Dec 18 2014 09:35:00 GMT-0800 (PST)</td>\n",
              "    </tr>\n",
              "    <tr>\n",
              "      <th>489553</th>\n",
              "      <td>2011</td>\n",
              "      <td>Ram</td>\n",
              "      <td>1500</td>\n",
              "      <td>SLT</td>\n",
              "      <td>crew cab</td>\n",
              "      <td>automatic</td>\n",
              "      <td>1d7rv1cp4bs687729</td>\n",
              "      <td>fl</td>\n",
              "      <td>28.0</td>\n",
              "      <td>112742.0</td>\n",
              "      <td>white</td>\n",
              "      <td>gray</td>\n",
              "      <td>wheels exchange llc</td>\n",
              "      <td>14450.0</td>\n",
              "      <td>15400.0</td>\n",
              "      <td>Wed Jun 03 2015 03:30:00 GMT-0700 (PDT)</td>\n",
              "    </tr>\n",
              "  </tbody>\n",
              "</table>\n",
              "</div>"
            ],
            "text/plain": [
              "        year       make           model      trim      body transmission  \\\n",
              "380056  2013      Dodge   grand caravan        SE   minivan    automatic   \n",
              "56806   2014  Chevrolet  impala limited  LT Fleet     sedan    automatic   \n",
              "232287  2005     Saturn             ion         2     sedan    automatic   \n",
              "30023   1996    Mercury           sable        LS     sedan    automatic   \n",
              "489553  2011        Ram            1500       SLT  crew cab    automatic   \n",
              "\n",
              "                      vin state  condition  odometer  color interior  \\\n",
              "380056  2c4rdgbg7dr609130    fl       36.0   89694.0  black    black   \n",
              "56806   2g1wb5e32e1134663    fl        4.0   23142.0  black     gray   \n",
              "232287  1g8aj52f35z142372    nc       21.0  146829.0  black     gray   \n",
              "30023   1melm53s2ta635102    va        1.0   71806.0  black        —   \n",
              "489553  1d7rv1cp4bs687729    fl       28.0  112742.0  white     gray   \n",
              "\n",
              "                                          seller      mmr  sellingprice  \\\n",
              "380056                 northwestern chrys/j/d/ge   9500.0        9500.0   \n",
              "56806                             gm remarketing  13000.0       12800.0   \n",
              "232287                     dt credit corporation   1400.0        1600.0   \n",
              "30023   c l hyman auto wholesale of virginia inc    525.0         900.0   \n",
              "489553                       wheels exchange llc  14450.0       15400.0   \n",
              "\n",
              "                                       saledate  \n",
              "380056  Wed Mar 04 2015 01:00:00 GMT-0800 (PST)  \n",
              "56806   Tue Jan 27 2015 01:30:00 GMT-0800 (PST)  \n",
              "232287  Tue Feb 03 2015 01:30:00 GMT-0800 (PST)  \n",
              "30023   Thu Dec 18 2014 09:35:00 GMT-0800 (PST)  \n",
              "489553  Wed Jun 03 2015 03:30:00 GMT-0700 (PDT)  "
            ]
          },
          "execution_count": 67,
          "metadata": {},
          "output_type": "execute_result"
        }
      ],
      "source": [
        "df.sample(5)"
      ]
    },
    {
      "cell_type": "code",
      "execution_count": 76,
      "metadata": {},
      "outputs": [
        {
          "name": "stderr",
          "output_type": "stream",
          "text": [
            "C:\\Users\\dell\\AppData\\Local\\Temp\\ipykernel_14860\\494460581.py:3: FutureWarning: Series.fillna with 'method' is deprecated and will raise in a future version. Use obj.ffill() or obj.bfill() instead.\n",
            "  df['saledate']=df['saledate'].fillna(method='bfill')\n"
          ]
        }
      ],
      "source": [
        "df['mmr']=df['mmr'].fillna(df['mmr'].mean())\n",
        "df['sellingprice']=df['sellingprice'].fillna(df['sellingprice'].mean())\n",
        "df['saledate']=df['saledate'].fillna(method='bfill')\n",
        "df=df.drop(columns='vin')\n"
      ]
    },
    {
      "cell_type": "code",
      "execution_count": 77,
      "metadata": {
        "id": "Jk0KwAXXBSw2"
      },
      "outputs": [
        {
          "data": {
            "text/plain": [
              "year            0\n",
              "make            0\n",
              "model           0\n",
              "trim            0\n",
              "body            0\n",
              "transmission    0\n",
              "state           0\n",
              "condition       0\n",
              "odometer        0\n",
              "color           0\n",
              "interior        0\n",
              "seller          0\n",
              "mmr             0\n",
              "sellingprice    0\n",
              "saledate        0\n",
              "dtype: int64"
            ]
          },
          "execution_count": 77,
          "metadata": {},
          "output_type": "execute_result"
        }
      ],
      "source": [
        "df.isnull().sum()"
      ]
    },
    {
      "cell_type": "code",
      "execution_count": 78,
      "metadata": {
        "id": "Ih9-ShX9GMgZ"
      },
      "outputs": [
        {
          "data": {
            "text/html": [
              "<div>\n",
              "<style scoped>\n",
              "    .dataframe tbody tr th:only-of-type {\n",
              "        vertical-align: middle;\n",
              "    }\n",
              "\n",
              "    .dataframe tbody tr th {\n",
              "        vertical-align: top;\n",
              "    }\n",
              "\n",
              "    .dataframe thead th {\n",
              "        text-align: right;\n",
              "    }\n",
              "</style>\n",
              "<table border=\"1\" class=\"dataframe\">\n",
              "  <thead>\n",
              "    <tr style=\"text-align: right;\">\n",
              "      <th></th>\n",
              "      <th>year</th>\n",
              "      <th>make</th>\n",
              "      <th>model</th>\n",
              "      <th>trim</th>\n",
              "      <th>body</th>\n",
              "      <th>transmission</th>\n",
              "      <th>state</th>\n",
              "      <th>condition</th>\n",
              "      <th>odometer</th>\n",
              "      <th>color</th>\n",
              "      <th>interior</th>\n",
              "      <th>seller</th>\n",
              "      <th>mmr</th>\n",
              "      <th>sellingprice</th>\n",
              "      <th>saledate</th>\n",
              "    </tr>\n",
              "  </thead>\n",
              "  <tbody>\n",
              "  </tbody>\n",
              "</table>\n",
              "</div>"
            ],
            "text/plain": [
              "Empty DataFrame\n",
              "Columns: [year, make, model, trim, body, transmission, state, condition, odometer, color, interior, seller, mmr, sellingprice, saledate]\n",
              "Index: []"
            ]
          },
          "execution_count": 78,
          "metadata": {},
          "output_type": "execute_result"
        }
      ],
      "source": [
        "df[df.isnull().any(axis=1)]"
      ]
    },
    {
      "cell_type": "code",
      "execution_count": 79,
      "metadata": {
        "id": "phL-Dt_3FTXA"
      },
      "outputs": [],
      "source": [
        "df.to_csv('imputed_data.csv',index=False)"
      ]
    },
    {
      "cell_type": "code",
      "execution_count": null,
      "metadata": {
        "id": "g7OrFw6NG9Mk"
      },
      "outputs": [],
      "source": [
        "df.isnull().sum()"
      ]
    },
    {
      "cell_type": "code",
      "execution_count": null,
      "metadata": {
        "id": "ehuqOs0FLKo8"
      },
      "outputs": [],
      "source": [
        "df.sample(7)"
      ]
    },
    {
      "cell_type": "code",
      "execution_count": null,
      "metadata": {
        "id": "M9lsTzviBDz1"
      },
      "outputs": [],
      "source": []
    },
    {
      "cell_type": "code",
      "execution_count": null,
      "metadata": {
        "id": "_6Tm8n6pLOml"
      },
      "outputs": [],
      "source": []
    }
  ],
  "metadata": {
    "colab": {
      "provenance": []
    },
    "kernelspec": {
      "display_name": ".conda",
      "language": "python",
      "name": "python3"
    },
    "language_info": {
      "codemirror_mode": {
        "name": "ipython",
        "version": 3
      },
      "file_extension": ".py",
      "mimetype": "text/x-python",
      "name": "python",
      "nbconvert_exporter": "python",
      "pygments_lexer": "ipython3",
      "version": "3.11.11"
    }
  },
  "nbformat": 4,
  "nbformat_minor": 0
}
